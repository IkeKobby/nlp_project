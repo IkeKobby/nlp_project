{
  "nbformat": 4,
  "nbformat_minor": 0,
  "metadata": {
    "accelerator": "GPU",
    "colab": {
      "name": "NLP_Question_Asnwering_.ipynb",
      "provenance": [],
      "collapsed_sections": [
        "aItmvuaEa3a7",
        "PzpRTOSTxjUz",
        "IKbmEnAdxt1I"
      ]
    },
    "kernelspec": {
      "display_name": "Python 3",
      "language": "python",
      "name": "python3"
    },
    "language_info": {
      "codemirror_mode": {
        "name": "ipython",
        "version": 3
      },
      "file_extension": ".py",
      "mimetype": "text/x-python",
      "name": "python",
      "nbconvert_exporter": "python",
      "pygments_lexer": "ipython3",
      "version": "3.8.10"
    }
  },
  "cells": [
    {
      "cell_type": "markdown",
      "metadata": {
        "id": "scq08GRZYXLI"
      },
      "source": [
        "### Natural Language Processing Project \n",
        "\n",
        "### Task: Question Answering using the FQuAD, French Question Answering Dataset"
      ]
    },
    {
      "cell_type": "code",
      "metadata": {
        "id": "O6axEtU6NCSS"
      },
      "source": [
        "### to reduce the long installation outputs\n",
        "from IPython.display import clear_output\n",
        "\n",
        "\n",
        "## importing dependencies\n",
        "import json\n",
        "from pathlib import Path\n",
        "import zipfile\n",
        "\n",
        "import tensorflow as tf\n",
        "import pandas as pd\n",
        "import numpy as np\n",
        "import re\n",
        "\n",
        "import matplotlib.pyplot as plt\n",
        "\n",
        "## word embedding model\n",
        "import gensim\n",
        "\n",
        "## filtering out warnings\n",
        "import warnings\n",
        "warnings.filterwarnings('ignore')"
      ],
      "execution_count": null,
      "outputs": []
    },
    {
      "cell_type": "markdown",
      "metadata": {
        "id": "8Rc3g0K9I-Ck"
      },
      "source": [
        "- The data used for the training is saved in [this github repository](https://github.com/IkeKobby/nlp_project/raw/main/used_data.zip).\n",
        " - In this project of question answering we shall employ the method of **text extraction** to retrieve answers to a given question given the context from which the question was asked.\n",
        " - The next cell below download the data into the directory `data` on colab for easy access. Kindly remove the hashtag if it is the first time you are using this notebook.\n",
        " - This project uses a smaller portion of the entire dataset due to inadequate resources for training fo the model. We utilised the Google provided GPU to aid with the dataset we have. \n"
      ]
    },
    {
      "cell_type": "code",
      "metadata": {
        "id": "xo9L77J5aGz1"
      },
      "source": [
        "!mkdir data\n",
        "!wget https://github.com/IkeKobby/nlp_project/raw/main/used_data.zip -O data/used_data.zip\n",
        "\n",
        "unzip =zipfile.ZipFile('data/used_data.zip')\n",
        "unzip.extractall('data/')\n",
        "unzip.close()\n",
        "\n",
        "clear_output()"
      ],
      "execution_count": null,
      "outputs": []
    },
    {
      "cell_type": "code",
      "metadata": {
        "id": "2MvJBq8IDB6L"
      },
      "source": [
        "!wget https://raw.githubusercontent.com/IkeKobby/nlp_project/main/nlp_helper_functions.py\n",
        "clear_output()\n",
        "\n",
        "import nlp_helper_functions as helpers"
      ],
      "execution_count": null,
      "outputs": []
    },
    {
      "cell_type": "markdown",
      "metadata": {
        "id": "T209RLmxJvq2"
      },
      "source": [
        "## Global variables\n",
        "- We used theswe global varibales to help with fine tuning of the model as and when deem necessary. "
      ]
    },
    {
      "cell_type": "code",
      "metadata": {
        "id": "d_j1Gi63Noe1"
      },
      "source": [
        "# TOKENIZATION\n",
        "FILTERS = '!\"#$%&()*+,-./:;<=>?@[\\\\]^_`{|}~\\t\\n'\n",
        "LOWER_CASE = True\n",
        "\n",
        "\n",
        "# answer model parameters\n",
        "EPOCHS = 100\n",
        "BATCH_SIZE = 32\n",
        "EMBED_SIZE = 200\n",
        "CLASS_WEIGHTS = {0: 0.5, 1: 5.}"
      ],
      "execution_count": null,
      "outputs": []
    },
    {
      "cell_type": "markdown",
      "metadata": {
        "id": "-xHduLVXa_q7"
      },
      "source": [
        "### Processed data"
      ]
    },
    {
      "cell_type": "markdown",
      "metadata": {
        "id": "QVWQjyyDIl1K"
      },
      "source": [
        "## This data has been preprocessed from the original data to fit into the model.\n",
        "### A link to the helper functions for the various preprocessing we did shall be given access to in the github [link](https://raw.githubusercontent.com/IkeKobby/nlp_project/main/nlp_preoject_helper_functions.py). \n"
      ]
    },
    {
      "cell_type": "code",
      "metadata": {
        "colab": {
          "base_uri": "https://localhost:8080/"
        },
        "id": "ukJB9X6fbDrn",
        "outputId": "ec8c1757-d032-4631-ff8f-fcfcaea7f5af"
      },
      "source": [
        "## Data Loading and exploration\n",
        "train_data = pd.read_csv('data/train_text.csv')\n",
        "train_data.shape"
      ],
      "execution_count": null,
      "outputs": [
        {
          "output_type": "execute_result",
          "data": {
            "text/plain": [
              "(4500, 5)"
            ]
          },
          "metadata": {
            "tags": []
          },
          "execution_count": 5
        }
      ]
    },
    {
      "cell_type": "code",
      "metadata": {
        "colab": {
          "base_uri": "https://localhost:8080/",
          "height": 359
        },
        "id": "cY9iFZ41MBNE",
        "outputId": "2e2c678e-4632-481e-f05f-59e915750efb"
      },
      "source": [
        "train_data.head(10)"
      ],
      "execution_count": null,
      "outputs": [
        {
          "output_type": "execute_result",
          "data": {
            "text/html": [
              "<div>\n",
              "<style scoped>\n",
              "    .dataframe tbody tr th:only-of-type {\n",
              "        vertical-align: middle;\n",
              "    }\n",
              "\n",
              "    .dataframe tbody tr th {\n",
              "        vertical-align: top;\n",
              "    }\n",
              "\n",
              "    .dataframe thead th {\n",
              "        text-align: right;\n",
              "    }\n",
              "</style>\n",
              "<table border=\"1\" class=\"dataframe\">\n",
              "  <thead>\n",
              "    <tr style=\"text-align: right;\">\n",
              "      <th></th>\n",
              "      <th>context</th>\n",
              "      <th>questions</th>\n",
              "      <th>answers</th>\n",
              "      <th>answer_start</th>\n",
              "      <th>answer_end</th>\n",
              "    </tr>\n",
              "  </thead>\n",
              "  <tbody>\n",
              "    <tr>\n",
              "      <th>0</th>\n",
              "      <td>l'idée selon laquelle une planète inconnue pou...</td>\n",
              "      <td>quel astronome a émit l'idée en premier d'une ...</td>\n",
              "      <td>johann elert bode</td>\n",
              "      <td>23</td>\n",
              "      <td>26</td>\n",
              "    </tr>\n",
              "    <tr>\n",
              "      <th>1</th>\n",
              "      <td>l'idée selon laquelle une planète inconnue pou...</td>\n",
              "      <td>quel astronome découvrit uranus ?</td>\n",
              "      <td>william herschel</td>\n",
              "      <td>77</td>\n",
              "      <td>79</td>\n",
              "    </tr>\n",
              "    <tr>\n",
              "      <th>2</th>\n",
              "      <td>l'idée selon laquelle une planète inconnue pou...</td>\n",
              "      <td>quelles furent les découvertes finales des vin...</td>\n",
              "      <td>plusieurs autres astéroïdes</td>\n",
              "      <td>135</td>\n",
              "      <td>138</td>\n",
              "    </tr>\n",
              "    <tr>\n",
              "      <th>3</th>\n",
              "      <td>l'idée selon laquelle une planète inconnue pou...</td>\n",
              "      <td>quelles furent les découvertes finales des vin...</td>\n",
              "      <td>plusieurs autres astéroïdes</td>\n",
              "      <td>135</td>\n",
              "      <td>138</td>\n",
              "    </tr>\n",
              "    <tr>\n",
              "      <th>4</th>\n",
              "      <td>piazzi observa cérès 24 fois, la dernière fois...</td>\n",
              "      <td>combien de fois piazzi est-il parvenu à observ...</td>\n",
              "      <td>24</td>\n",
              "      <td>3</td>\n",
              "      <td>4</td>\n",
              "    </tr>\n",
              "    <tr>\n",
              "      <th>5</th>\n",
              "      <td>piazzi observa cérès 24 fois, la dernière fois...</td>\n",
              "      <td>où se trouvait barnaba oriani en 1801 ?</td>\n",
              "      <td>milan</td>\n",
              "      <td>35</td>\n",
              "      <td>36</td>\n",
              "    </tr>\n",
              "    <tr>\n",
              "      <th>6</th>\n",
              "      <td>piazzi observa cérès 24 fois, la dernière fois...</td>\n",
              "      <td>dans quel revue scientifique fut publiées ces ...</td>\n",
              "      <td>monatliche correspondenz</td>\n",
              "      <td>105</td>\n",
              "      <td>107</td>\n",
              "    </tr>\n",
              "    <tr>\n",
              "      <th>7</th>\n",
              "      <td>piazzi observa cérès 24 fois, la dernière fois...</td>\n",
              "      <td>pourquoi cérès n'était pas directement assimil...</td>\n",
              "      <td>son mouvement est lent et uniforme</td>\n",
              "      <td>49</td>\n",
              "      <td>55</td>\n",
              "    </tr>\n",
              "    <tr>\n",
              "      <th>8</th>\n",
              "      <td>peu après sa découverte, cérès s'approcha trop...</td>\n",
              "      <td>pour quelle raison on ne put plus observer cér...</td>\n",
              "      <td>cérès s'approcha trop près du soleil</td>\n",
              "      <td>5</td>\n",
              "      <td>12</td>\n",
              "    </tr>\n",
              "    <tr>\n",
              "      <th>9</th>\n",
              "      <td>peu après sa découverte, cérès s'approcha trop...</td>\n",
              "      <td>qui est parvenu à déterminer approximativement...</td>\n",
              "      <td>carl friedrich gauss</td>\n",
              "      <td>61</td>\n",
              "      <td>64</td>\n",
              "    </tr>\n",
              "  </tbody>\n",
              "</table>\n",
              "</div>"
            ],
            "text/plain": [
              "                                             context  ... answer_end\n",
              "0  l'idée selon laquelle une planète inconnue pou...  ...         26\n",
              "1  l'idée selon laquelle une planète inconnue pou...  ...         79\n",
              "2  l'idée selon laquelle une planète inconnue pou...  ...        138\n",
              "3  l'idée selon laquelle une planète inconnue pou...  ...        138\n",
              "4  piazzi observa cérès 24 fois, la dernière fois...  ...          4\n",
              "5  piazzi observa cérès 24 fois, la dernière fois...  ...         36\n",
              "6  piazzi observa cérès 24 fois, la dernière fois...  ...        107\n",
              "7  piazzi observa cérès 24 fois, la dernière fois...  ...         55\n",
              "8  peu après sa découverte, cérès s'approcha trop...  ...         12\n",
              "9  peu après sa découverte, cérès s'approcha trop...  ...         64\n",
              "\n",
              "[10 rows x 5 columns]"
            ]
          },
          "metadata": {
            "tags": []
          },
          "execution_count": 6
        }
      ]
    },
    {
      "cell_type": "code",
      "metadata": {
        "id": "k9zmM53hqzQO"
      },
      "source": [
        "train_data = helpers.fix_answer_index(train_data)"
      ],
      "execution_count": null,
      "outputs": []
    },
    {
      "cell_type": "code",
      "metadata": {
        "colab": {
          "base_uri": "https://localhost:8080/",
          "height": 359
        },
        "id": "iGB3xeiUDkOI",
        "outputId": "d6c61a3d-0999-4e00-c995-4a23fa8671a4"
      },
      "source": [
        "## After fixing the indexes.\n",
        "train_data.head(10)"
      ],
      "execution_count": null,
      "outputs": [
        {
          "output_type": "execute_result",
          "data": {
            "text/html": [
              "<div>\n",
              "<style scoped>\n",
              "    .dataframe tbody tr th:only-of-type {\n",
              "        vertical-align: middle;\n",
              "    }\n",
              "\n",
              "    .dataframe tbody tr th {\n",
              "        vertical-align: top;\n",
              "    }\n",
              "\n",
              "    .dataframe thead th {\n",
              "        text-align: right;\n",
              "    }\n",
              "</style>\n",
              "<table border=\"1\" class=\"dataframe\">\n",
              "  <thead>\n",
              "    <tr style=\"text-align: right;\">\n",
              "      <th></th>\n",
              "      <th>context</th>\n",
              "      <th>questions</th>\n",
              "      <th>answers</th>\n",
              "      <th>answer_start</th>\n",
              "      <th>answer_end</th>\n",
              "    </tr>\n",
              "  </thead>\n",
              "  <tbody>\n",
              "    <tr>\n",
              "      <th>0</th>\n",
              "      <td>l'idée selon laquelle une planète inconnue pou...</td>\n",
              "      <td>quel astronome a émit l'idée en premier d'une ...</td>\n",
              "      <td>johann elert bode</td>\n",
              "      <td>22</td>\n",
              "      <td>25</td>\n",
              "    </tr>\n",
              "    <tr>\n",
              "      <th>1</th>\n",
              "      <td>l'idée selon laquelle une planète inconnue pou...</td>\n",
              "      <td>quel astronome découvrit uranus ?</td>\n",
              "      <td>william herschel</td>\n",
              "      <td>76</td>\n",
              "      <td>78</td>\n",
              "    </tr>\n",
              "    <tr>\n",
              "      <th>2</th>\n",
              "      <td>l'idée selon laquelle une planète inconnue pou...</td>\n",
              "      <td>quelles furent les découvertes finales des vin...</td>\n",
              "      <td>plusieurs autres astéroïdes</td>\n",
              "      <td>134</td>\n",
              "      <td>137</td>\n",
              "    </tr>\n",
              "    <tr>\n",
              "      <th>3</th>\n",
              "      <td>l'idée selon laquelle une planète inconnue pou...</td>\n",
              "      <td>quelles furent les découvertes finales des vin...</td>\n",
              "      <td>plusieurs autres astéroïdes</td>\n",
              "      <td>134</td>\n",
              "      <td>137</td>\n",
              "    </tr>\n",
              "    <tr>\n",
              "      <th>4</th>\n",
              "      <td>piazzi observa cérès 24 fois, la dernière fois...</td>\n",
              "      <td>combien de fois piazzi est-il parvenu à observ...</td>\n",
              "      <td>24</td>\n",
              "      <td>2</td>\n",
              "      <td>3</td>\n",
              "    </tr>\n",
              "    <tr>\n",
              "      <th>5</th>\n",
              "      <td>piazzi observa cérès 24 fois, la dernière fois...</td>\n",
              "      <td>où se trouvait barnaba oriani en 1801 ?</td>\n",
              "      <td>milan</td>\n",
              "      <td>34</td>\n",
              "      <td>35</td>\n",
              "    </tr>\n",
              "    <tr>\n",
              "      <th>6</th>\n",
              "      <td>piazzi observa cérès 24 fois, la dernière fois...</td>\n",
              "      <td>dans quel revue scientifique fut publiées ces ...</td>\n",
              "      <td>monatliche correspondenz</td>\n",
              "      <td>104</td>\n",
              "      <td>106</td>\n",
              "    </tr>\n",
              "    <tr>\n",
              "      <th>7</th>\n",
              "      <td>piazzi observa cérès 24 fois, la dernière fois...</td>\n",
              "      <td>pourquoi cérès n'était pas directement assimil...</td>\n",
              "      <td>son mouvement est lent et uniforme</td>\n",
              "      <td>48</td>\n",
              "      <td>54</td>\n",
              "    </tr>\n",
              "    <tr>\n",
              "      <th>8</th>\n",
              "      <td>peu après sa découverte, cérès s'approcha trop...</td>\n",
              "      <td>pour quelle raison on ne put plus observer cér...</td>\n",
              "      <td>cérès s'approcha trop près du soleil</td>\n",
              "      <td>4</td>\n",
              "      <td>11</td>\n",
              "    </tr>\n",
              "    <tr>\n",
              "      <th>9</th>\n",
              "      <td>peu après sa découverte, cérès s'approcha trop...</td>\n",
              "      <td>qui est parvenu à déterminer approximativement...</td>\n",
              "      <td>carl friedrich gauss</td>\n",
              "      <td>60</td>\n",
              "      <td>63</td>\n",
              "    </tr>\n",
              "  </tbody>\n",
              "</table>\n",
              "</div>"
            ],
            "text/plain": [
              "                                             context  ... answer_end\n",
              "0  l'idée selon laquelle une planète inconnue pou...  ...         25\n",
              "1  l'idée selon laquelle une planète inconnue pou...  ...         78\n",
              "2  l'idée selon laquelle une planète inconnue pou...  ...        137\n",
              "3  l'idée selon laquelle une planète inconnue pou...  ...        137\n",
              "4  piazzi observa cérès 24 fois, la dernière fois...  ...          3\n",
              "5  piazzi observa cérès 24 fois, la dernière fois...  ...         35\n",
              "6  piazzi observa cérès 24 fois, la dernière fois...  ...        106\n",
              "7  piazzi observa cérès 24 fois, la dernière fois...  ...         54\n",
              "8  peu après sa découverte, cérès s'approcha trop...  ...         11\n",
              "9  peu après sa découverte, cérès s'approcha trop...  ...         63\n",
              "\n",
              "[10 rows x 5 columns]"
            ]
          },
          "metadata": {
            "tags": []
          },
          "execution_count": 8
        }
      ]
    },
    {
      "cell_type": "markdown",
      "metadata": {
        "id": "r7G5jt5fh1nd"
      },
      "source": [
        "- We used 20% of the train data for validating the training of the model. However we used only 4500 from the entire dataset due to the cost of training large volume of data. The knowledge was however impacted:"
      ]
    },
    {
      "cell_type": "code",
      "metadata": {
        "colab": {
          "base_uri": "https://localhost:8080/"
        },
        "id": "jZfvv-dcbgpn",
        "outputId": "1e0e9d8d-6ada-4e84-cc25-15f36ccf9ea4"
      },
      "source": [
        "### dividing data  into train and validation sets.\n",
        "train_data_ = train_data[:3600]\n",
        "val_data = train_data.loc[3600:].reset_index(drop = True)\n",
        "train_data_.shape, val_data.shape"
      ],
      "execution_count": null,
      "outputs": [
        {
          "output_type": "execute_result",
          "data": {
            "text/plain": [
              "((3600, 5), (900, 5))"
            ]
          },
          "metadata": {
            "tags": []
          },
          "execution_count": 9
        }
      ]
    },
    {
      "cell_type": "code",
      "metadata": {
        "colab": {
          "base_uri": "https://localhost:8080/"
        },
        "id": "wN3ndsNI4pqc",
        "outputId": "1335b18b-27e5-41ad-a6cf-858720ec9384"
      },
      "source": [
        "## retrieving the maximum sentence length from the context. \n",
        "def get_MAX_LEN(column):\n",
        "  tok = []\n",
        "  for sent in column:\n",
        "    tok.append(len(sent.split()))\n",
        "  get_max = max(np.array(tok))\n",
        "  return get_max \n",
        "\n",
        "MAX_LEN = get_MAX_LEN(train_data.context)\n",
        "MAX_LEN"
      ],
      "execution_count": null,
      "outputs": [
        {
          "output_type": "execute_result",
          "data": {
            "text/plain": [
              "503"
            ]
          },
          "metadata": {
            "tags": []
          },
          "execution_count": 10
        }
      ]
    },
    {
      "cell_type": "code",
      "metadata": {
        "id": "lYggezZ1Zp91"
      },
      "source": [
        "### A functionalized tokenizer that performs tokenization on the text columns of the data.\n",
        "def define_tokenizer(df_series):\n",
        "    sentences = pd.concat(df_series)\n",
        "    \n",
        "    tokenizer = tf.keras.preprocessing.text.Tokenizer(\n",
        "        filters=FILTERS, \n",
        "        lower=LOWER_CASE\n",
        "    )\n",
        "    tokenizer.fit_on_texts(sentences)\n",
        "    \n",
        "    return tokenizer\n",
        "\n",
        "## An encoder function that takes into effects the tokenized method and paired sentences and encode them numerically  \n",
        "def encode(sentences, tokenizer):\n",
        "    encoded_sentences = tokenizer.texts_to_sequences(sentences)\n",
        "    \n",
        "    encoded_sentences = tf.keras.preprocessing.sequence.pad_sequences(\n",
        "        encoded_sentences, \n",
        "        padding='post',\n",
        "        maxlen=MAX_LEN\n",
        "    )\n",
        "    \n",
        "    return encoded_sentences"
      ],
      "execution_count": null,
      "outputs": []
    },
    {
      "cell_type": "code",
      "metadata": {
        "id": "zW9VVH-nhN2l"
      },
      "source": [
        "## fitting the tokenizer with the required sentences\n",
        "tokenizer = define_tokenizer([\n",
        "    train_data_.context, \n",
        "    train_data_.questions,\n",
        "    val_data.context, \n",
        "    val_data.questions\n",
        "])"
      ],
      "execution_count": null,
      "outputs": []
    },
    {
      "cell_type": "code",
      "metadata": {
        "id": "8bmvefvrhz-Y"
      },
      "source": [
        "### Getting the encodings for each sentences paired with respective questions. \n",
        "train_context = encode(train_data_.context.values, tokenizer)\n",
        "train_questions = encode(train_data_.questions.values, tokenizer)\n",
        "\n",
        "val_context = encode(val_data.context.values, tokenizer)\n",
        "val_questions = encode(val_data.questions.values, tokenizer)"
      ],
      "execution_count": null,
      "outputs": []
    },
    {
      "cell_type": "code",
      "metadata": {
        "colab": {
          "base_uri": "https://localhost:8080/"
        },
        "id": "iw7tzcL7uD4S",
        "outputId": "543ff1dc-dc06-43bb-e6a7-37046df395b3"
      },
      "source": [
        "## checking the encoding sizes\n",
        "train_context.shape, train_questions.shape, val_context.shape, val_questions.shape"
      ],
      "execution_count": null,
      "outputs": [
        {
          "output_type": "execute_result",
          "data": {
            "text/plain": [
              "((3600, 503), (3600, 503), (900, 503), (900, 503))"
            ]
          },
          "metadata": {
            "tags": []
          },
          "execution_count": 14
        }
      ]
    },
    {
      "cell_type": "code",
      "metadata": {
        "id": "MTEnYfC7iY9t"
      },
      "source": [
        "### A function that returns one-hot encoded labels for the output variables, thus, the start_tokens, end_tokens, in a dimension of the maximum sentence length\n",
        "## With zeroes everywhere but for the position of the start and end tokens.\n",
        "\n",
        "def form_answer_labels(df, sentence_length):\n",
        "    start_labels = np.zeros((len(df), sentence_length))\n",
        "    end_labels = np.zeros((len(df), sentence_length))\n",
        "\n",
        "    for i in range(len(df)):\n",
        "        start = df.loc[i].answer_start\n",
        "        end = df.loc[i].answer_end\n",
        "\n",
        "        if start < sentence_length and end < sentence_length:\n",
        "            start_labels[i, start] = 1\n",
        "            end_labels[i, end] = 1\n",
        "        else:\n",
        "            continue\n",
        "    \n",
        "    return start_labels, end_labels\n",
        "\n",
        "### instantiating the function with the rewuired data.\n",
        "train_start_labels, train_end_labels = form_answer_labels(train_data_, MAX_LEN)\n",
        "val_start_labels, val_end_labels = form_answer_labels(val_data, MAX_LEN)"
      ],
      "execution_count": null,
      "outputs": []
    },
    {
      "cell_type": "code",
      "metadata": {
        "colab": {
          "base_uri": "https://localhost:8080/"
        },
        "id": "KeWndRwjjzy0",
        "outputId": "22643c6a-f437-453a-9fbc-878553830a81"
      },
      "source": [
        "### Printing out the representation of the start and end tokens in onehot encoded format.\n",
        "print(train_data_.loc[0].context)\n",
        "print('Start index: {0}'.format(train_start_labels[0]))\n",
        "print('End index: {0}'.format(train_end_labels[0]))"
      ],
      "execution_count": null,
      "outputs": [
        {
          "output_type": "stream",
          "text": [
            "l'idée selon laquelle une planète inconnue pourrait exister entre les orbites de mars et jupiter fut proposée pour la première fois par johann elert bode en 1768. ses suggestions étaient basées sur la loi de titius-bode, une théorie désormais obsolète proposée par johann daniel titius en 1766,. selon cette loi, le demi-grand axe de cette planète aurait été d'environ 2,8 ua. la découverte d'uranus par william herschel en 1781 accrut la confiance dans la loi de titius-bode et, en 1800, vingt-quatre astronomes expérimentés combinèrent leurs efforts et entreprirent une recherche méthodique de la planète proposée,. le groupe était dirigé par franz xaver von zach. bien qu'ils n'aient pas découvert cérès, ils trouvèrent néanmoins plusieurs autres astéroïdes.\n",
            "Start index: [0. 0. 0. 0. 0. 0. 0. 0. 0. 0. 0. 0. 0. 0. 0. 0. 0. 0. 0. 0. 0. 0. 1. 0.\n",
            " 0. 0. 0. 0. 0. 0. 0. 0. 0. 0. 0. 0. 0. 0. 0. 0. 0. 0. 0. 0. 0. 0. 0. 0.\n",
            " 0. 0. 0. 0. 0. 0. 0. 0. 0. 0. 0. 0. 0. 0. 0. 0. 0. 0. 0. 0. 0. 0. 0. 0.\n",
            " 0. 0. 0. 0. 0. 0. 0. 0. 0. 0. 0. 0. 0. 0. 0. 0. 0. 0. 0. 0. 0. 0. 0. 0.\n",
            " 0. 0. 0. 0. 0. 0. 0. 0. 0. 0. 0. 0. 0. 0. 0. 0. 0. 0. 0. 0. 0. 0. 0. 0.\n",
            " 0. 0. 0. 0. 0. 0. 0. 0. 0. 0. 0. 0. 0. 0. 0. 0. 0. 0. 0. 0. 0. 0. 0. 0.\n",
            " 0. 0. 0. 0. 0. 0. 0. 0. 0. 0. 0. 0. 0. 0. 0. 0. 0. 0. 0. 0. 0. 0. 0. 0.\n",
            " 0. 0. 0. 0. 0. 0. 0. 0. 0. 0. 0. 0. 0. 0. 0. 0. 0. 0. 0. 0. 0. 0. 0. 0.\n",
            " 0. 0. 0. 0. 0. 0. 0. 0. 0. 0. 0. 0. 0. 0. 0. 0. 0. 0. 0. 0. 0. 0. 0. 0.\n",
            " 0. 0. 0. 0. 0. 0. 0. 0. 0. 0. 0. 0. 0. 0. 0. 0. 0. 0. 0. 0. 0. 0. 0. 0.\n",
            " 0. 0. 0. 0. 0. 0. 0. 0. 0. 0. 0. 0. 0. 0. 0. 0. 0. 0. 0. 0. 0. 0. 0. 0.\n",
            " 0. 0. 0. 0. 0. 0. 0. 0. 0. 0. 0. 0. 0. 0. 0. 0. 0. 0. 0. 0. 0. 0. 0. 0.\n",
            " 0. 0. 0. 0. 0. 0. 0. 0. 0. 0. 0. 0. 0. 0. 0. 0. 0. 0. 0. 0. 0. 0. 0. 0.\n",
            " 0. 0. 0. 0. 0. 0. 0. 0. 0. 0. 0. 0. 0. 0. 0. 0. 0. 0. 0. 0. 0. 0. 0. 0.\n",
            " 0. 0. 0. 0. 0. 0. 0. 0. 0. 0. 0. 0. 0. 0. 0. 0. 0. 0. 0. 0. 0. 0. 0. 0.\n",
            " 0. 0. 0. 0. 0. 0. 0. 0. 0. 0. 0. 0. 0. 0. 0. 0. 0. 0. 0. 0. 0. 0. 0. 0.\n",
            " 0. 0. 0. 0. 0. 0. 0. 0. 0. 0. 0. 0. 0. 0. 0. 0. 0. 0. 0. 0. 0. 0. 0. 0.\n",
            " 0. 0. 0. 0. 0. 0. 0. 0. 0. 0. 0. 0. 0. 0. 0. 0. 0. 0. 0. 0. 0. 0. 0. 0.\n",
            " 0. 0. 0. 0. 0. 0. 0. 0. 0. 0. 0. 0. 0. 0. 0. 0. 0. 0. 0. 0. 0. 0. 0. 0.\n",
            " 0. 0. 0. 0. 0. 0. 0. 0. 0. 0. 0. 0. 0. 0. 0. 0. 0. 0. 0. 0. 0. 0. 0. 0.\n",
            " 0. 0. 0. 0. 0. 0. 0. 0. 0. 0. 0. 0. 0. 0. 0. 0. 0. 0. 0. 0. 0. 0. 0.]\n",
            "End index: [0. 0. 0. 0. 0. 0. 0. 0. 0. 0. 0. 0. 0. 0. 0. 0. 0. 0. 0. 0. 0. 0. 0. 0.\n",
            " 0. 1. 0. 0. 0. 0. 0. 0. 0. 0. 0. 0. 0. 0. 0. 0. 0. 0. 0. 0. 0. 0. 0. 0.\n",
            " 0. 0. 0. 0. 0. 0. 0. 0. 0. 0. 0. 0. 0. 0. 0. 0. 0. 0. 0. 0. 0. 0. 0. 0.\n",
            " 0. 0. 0. 0. 0. 0. 0. 0. 0. 0. 0. 0. 0. 0. 0. 0. 0. 0. 0. 0. 0. 0. 0. 0.\n",
            " 0. 0. 0. 0. 0. 0. 0. 0. 0. 0. 0. 0. 0. 0. 0. 0. 0. 0. 0. 0. 0. 0. 0. 0.\n",
            " 0. 0. 0. 0. 0. 0. 0. 0. 0. 0. 0. 0. 0. 0. 0. 0. 0. 0. 0. 0. 0. 0. 0. 0.\n",
            " 0. 0. 0. 0. 0. 0. 0. 0. 0. 0. 0. 0. 0. 0. 0. 0. 0. 0. 0. 0. 0. 0. 0. 0.\n",
            " 0. 0. 0. 0. 0. 0. 0. 0. 0. 0. 0. 0. 0. 0. 0. 0. 0. 0. 0. 0. 0. 0. 0. 0.\n",
            " 0. 0. 0. 0. 0. 0. 0. 0. 0. 0. 0. 0. 0. 0. 0. 0. 0. 0. 0. 0. 0. 0. 0. 0.\n",
            " 0. 0. 0. 0. 0. 0. 0. 0. 0. 0. 0. 0. 0. 0. 0. 0. 0. 0. 0. 0. 0. 0. 0. 0.\n",
            " 0. 0. 0. 0. 0. 0. 0. 0. 0. 0. 0. 0. 0. 0. 0. 0. 0. 0. 0. 0. 0. 0. 0. 0.\n",
            " 0. 0. 0. 0. 0. 0. 0. 0. 0. 0. 0. 0. 0. 0. 0. 0. 0. 0. 0. 0. 0. 0. 0. 0.\n",
            " 0. 0. 0. 0. 0. 0. 0. 0. 0. 0. 0. 0. 0. 0. 0. 0. 0. 0. 0. 0. 0. 0. 0. 0.\n",
            " 0. 0. 0. 0. 0. 0. 0. 0. 0. 0. 0. 0. 0. 0. 0. 0. 0. 0. 0. 0. 0. 0. 0. 0.\n",
            " 0. 0. 0. 0. 0. 0. 0. 0. 0. 0. 0. 0. 0. 0. 0. 0. 0. 0. 0. 0. 0. 0. 0. 0.\n",
            " 0. 0. 0. 0. 0. 0. 0. 0. 0. 0. 0. 0. 0. 0. 0. 0. 0. 0. 0. 0. 0. 0. 0. 0.\n",
            " 0. 0. 0. 0. 0. 0. 0. 0. 0. 0. 0. 0. 0. 0. 0. 0. 0. 0. 0. 0. 0. 0. 0. 0.\n",
            " 0. 0. 0. 0. 0. 0. 0. 0. 0. 0. 0. 0. 0. 0. 0. 0. 0. 0. 0. 0. 0. 0. 0. 0.\n",
            " 0. 0. 0. 0. 0. 0. 0. 0. 0. 0. 0. 0. 0. 0. 0. 0. 0. 0. 0. 0. 0. 0. 0. 0.\n",
            " 0. 0. 0. 0. 0. 0. 0. 0. 0. 0. 0. 0. 0. 0. 0. 0. 0. 0. 0. 0. 0. 0. 0. 0.\n",
            " 0. 0. 0. 0. 0. 0. 0. 0. 0. 0. 0. 0. 0. 0. 0. 0. 0. 0. 0. 0. 0. 0. 0.]\n"
          ],
          "name": "stdout"
        }
      ]
    },
    {
      "cell_type": "markdown",
      "metadata": {
        "id": "HaPoQi4se0Cy"
      },
      "source": [
        "#### Model training "
      ]
    },
    {
      "cell_type": "code",
      "metadata": {
        "id": "VzxETzrXskWr"
      },
      "source": [
        "### We used LSTM for the training of the questions and answers.\n",
        "from tensorflow.keras.layers import LSTM, Bidirectional, GlobalMaxPooling1D, SpatialDropout1D, Dense, Dropout, Input, concatenate, Conv1D, Activation, Flatten"
      ],
      "execution_count": null,
      "outputs": []
    },
    {
      "cell_type": "markdown",
      "metadata": {
        "id": "lHg3KfdEMaVM"
      },
      "source": [
        "> We also trained an embedding on french texts to help with our french question answering task. A link to the text we trained the embedding on shall be provided [here](https://raw.githubusercontent.com/Ismailhachimi/French-Word-Embeddings/master/Data/data.txt). \n",
        "\n",
        "> The embedding shall also be added to the github repository for projects with French tasks. However, in the meantime here is a [google drive link](https://drive.google.com/drive/folders/1SEvX1tgw9PDg6JFZaXX7TDsSjKqtqwsK?usp=sharing) to the file on request for verification. \n"
      ]
    },
    {
      "cell_type": "code",
      "metadata": {
        "colab": {
          "base_uri": "https://localhost:8080/"
        },
        "id": "GHppREdfouWx",
        "outputId": "5b232784-1074-486b-d0c3-6c9ff71a7d6e"
      },
      "source": [
        "from google.colab import drive\n",
        "drive.mount('/content/drive')"
      ],
      "execution_count": null,
      "outputs": [
        {
          "output_type": "stream",
          "text": [
            "Mounted at /content/drive\n"
          ],
          "name": "stdout"
        }
      ]
    },
    {
      "cell_type": "code",
      "metadata": {
        "id": "A4RJ_Ib_bnLg"
      },
      "source": [
        "## Using a trained model on french text\n",
        "model_w2v = gensim.models.Word2Vec.load('/content/drive/MyDrive/models/nlp_cbow/w2v_cbow_200D')\n",
        "\n",
        "### Create embedding dictionary for each french word from our dataset\n",
        "embedding_dic = {}\n",
        "\n",
        "for word in model_w2v.wv.vocab:\n",
        "  embedding_dic[word] = model_w2v.wv.__getitem__(word)\n",
        "\n",
        "\n",
        "num_words = len(tokenizer.word_index) + 1\n",
        "embedding_matrix = np.zeros((num_words, EMBED_SIZE))\n",
        "\n",
        "for word, i in tokenizer.word_index.items():\n",
        "    if i > num_words:\n",
        "        continue\n",
        "    \n",
        "    emb_vec = embedding_dic.get(word)\n",
        "    \n",
        "    if emb_vec is not None:\n",
        "        embedding_matrix[i] = emb_vec"
      ],
      "execution_count": null,
      "outputs": []
    },
    {
      "cell_type": "code",
      "metadata": {
        "id": "KIzsu_dxdMWj"
      },
      "source": [
        "## We built the model with the embedding layer on top of the LSTM\n",
        "\n",
        "### embedding layer \n",
        "embedding = tf.keras.layers.Embedding(\n",
        "    len(tokenizer.word_index) + 1,\n",
        "    EMBED_SIZE,\n",
        "    embeddings_initializer = tf.keras.initializers.Constant(embedding_matrix),\n",
        "    trainable = False\n",
        ")\n",
        "\n",
        "# encode question\n",
        "question_input = Input(shape=(None,))\n",
        "question_x = embedding(question_input)\n",
        "question_x = SpatialDropout1D(0.2)(question_x)\n",
        "question_x = Bidirectional(LSTM(300, return_sequences=True))(question_x)\n",
        "question_x = Bidirectional(LSTM(200, return_sequences=True))(question_x)\n",
        "question_x = Bidirectional(LSTM(100, return_sequences=True))(question_x)\n",
        "\n",
        "# encode answer\n",
        "answer_input = Input(shape=(None,))\n",
        "answer_x = embedding(answer_input)\n",
        "answer_x = SpatialDropout1D(0.2)(answer_x)\n",
        "answer_x = Bidirectional(LSTM(250, return_sequences=True))(answer_x)\n",
        "answer_x = Bidirectional(LSTM(150, return_sequences=True))(answer_x)\n",
        "answer_x = Bidirectional(LSTM(100, return_sequences=True))(answer_x)\n",
        "\n",
        "\n",
        "# merge the encodings\n",
        "combined_x = concatenate([question_x, answer_x])\n",
        "\n",
        "# predict start index\n",
        "start_x = Dropout(0.1)(combined_x) \n",
        "start_x = Conv1D(1,1)(start_x)\n",
        "start_x = Flatten()(start_x)\n",
        "start_x = Activation('softmax', name='start_token_out')(start_x)\n",
        "\n",
        "# predict end index\n",
        "end_x = Dropout(0.1)(combined_x) \n",
        "end_x = Conv1D(1,1)(end_x)\n",
        "end_x = Flatten()(end_x)\n",
        "end_x = Activation('softmax', name='end_token_out')(end_x)\n",
        "\n",
        "# merge the parts into one model\n",
        "model = tf.keras.models.Model(inputs=[answer_input, question_input], outputs=[start_x, end_x])"
      ],
      "execution_count": null,
      "outputs": []
    },
    {
      "cell_type": "code",
      "metadata": {
        "id": "OFDhb5KctG8h"
      },
      "source": [
        "## compiling the model with three metrics\n",
        "model.compile(\n",
        "    loss='categorical_crossentropy', \n",
        "    optimizer='adam',\n",
        "    metrics=['categorical_accuracy', 'Recall', 'Precision']\n",
        ")\n",
        "\n",
        "## defining a call back to check with the model training and performance over time.\n",
        "callbacks = [\n",
        "    tf.keras.callbacks.ReduceLROnPlateau(monitor='loss', patience=3, verbose=1),\n",
        "    tf.keras.callbacks.EarlyStopping(monitor='loss', patience=5, verbose=1),\n",
        "]"
      ],
      "execution_count": null,
      "outputs": []
    },
    {
      "cell_type": "code",
      "metadata": {
        "colab": {
          "base_uri": "https://localhost:8080/"
        },
        "id": "0REZ8YXPtfPj",
        "outputId": "d0b7a67a-6625-4a56-d30a-4be35fdcb7d9"
      },
      "source": [
        "### We fit the model and save the history for visualization and monitoring of the model performance\n",
        "history = model.fit(\n",
        "    x = [train_context, train_questions], \n",
        "    y = [train_start_labels, train_end_labels],\n",
        "    validation_data = (\n",
        "        [val_context, val_questions], \n",
        "        [val_start_labels, val_end_labels]\n",
        "    ),\n",
        "    epochs = EPOCHS,\n",
        "    callbacks = callbacks,\n",
        "    batch_size = BATCH_SIZE,\n",
        "    shuffle = True\n",
        ")"
      ],
      "execution_count": null,
      "outputs": [
        {
          "output_type": "stream",
          "text": [
            "Epoch 1/100\n",
            "113/113 [==============================] - 96s 435ms/step - loss: 9.7447 - start_token_out_loss: 4.8778 - end_token_out_loss: 4.8669 - start_token_out_categorical_accuracy: 0.0206 - start_token_out_recall: 0.0000e+00 - start_token_out_precision: 0.0000e+00 - end_token_out_categorical_accuracy: 0.0203 - end_token_out_recall_1: 0.0000e+00 - end_token_out_precision_1: 0.0000e+00 - val_loss: 9.4039 - val_start_token_out_loss: 4.6977 - val_end_token_out_loss: 4.7061 - val_start_token_out_categorical_accuracy: 0.0267 - val_start_token_out_recall: 0.0000e+00 - val_start_token_out_precision: 0.0000e+00 - val_end_token_out_categorical_accuracy: 0.0189 - val_end_token_out_recall_1: 0.0000e+00 - val_end_token_out_precision_1: 0.0000e+00\n",
            "Epoch 2/100\n",
            "113/113 [==============================] - 47s 420ms/step - loss: 9.5437 - start_token_out_loss: 4.7480 - end_token_out_loss: 4.7957 - start_token_out_categorical_accuracy: 0.0383 - start_token_out_recall: 0.0000e+00 - start_token_out_precision: 0.0000e+00 - end_token_out_categorical_accuracy: 0.0186 - end_token_out_recall_1: 0.0000e+00 - end_token_out_precision_1: 0.0000e+00 - val_loss: 9.4163 - val_start_token_out_loss: 4.7154 - val_end_token_out_loss: 4.7008 - val_start_token_out_categorical_accuracy: 0.0267 - val_start_token_out_recall: 0.0000e+00 - val_start_token_out_precision: 0.0000e+00 - val_end_token_out_categorical_accuracy: 0.0300 - val_end_token_out_recall_1: 0.0000e+00 - val_end_token_out_precision_1: 0.0000e+00\n",
            "Epoch 3/100\n",
            "113/113 [==============================] - 48s 423ms/step - loss: 9.4963 - start_token_out_loss: 4.7355 - end_token_out_loss: 4.7608 - start_token_out_categorical_accuracy: 0.0392 - start_token_out_recall: 0.0000e+00 - start_token_out_precision: 0.0000e+00 - end_token_out_categorical_accuracy: 0.0306 - end_token_out_recall_1: 0.0000e+00 - end_token_out_precision_1: 0.0000e+00 - val_loss: 9.3663 - val_start_token_out_loss: 4.6764 - val_end_token_out_loss: 4.6899 - val_start_token_out_categorical_accuracy: 0.0300 - val_start_token_out_recall: 0.0000e+00 - val_start_token_out_precision: 0.0000e+00 - val_end_token_out_categorical_accuracy: 0.0189 - val_end_token_out_recall_1: 0.0000e+00 - val_end_token_out_precision_1: 0.0000e+00\n",
            "Epoch 4/100\n",
            "113/113 [==============================] - 48s 424ms/step - loss: 9.4489 - start_token_out_loss: 4.7121 - end_token_out_loss: 4.7367 - start_token_out_categorical_accuracy: 0.0394 - start_token_out_recall: 0.0000e+00 - start_token_out_precision: 0.0000e+00 - end_token_out_categorical_accuracy: 0.0292 - end_token_out_recall_1: 0.0000e+00 - end_token_out_precision_1: 0.0000e+00 - val_loss: 9.4349 - val_start_token_out_loss: 4.7199 - val_end_token_out_loss: 4.7149 - val_start_token_out_categorical_accuracy: 0.0322 - val_start_token_out_recall: 0.0011 - val_start_token_out_precision: 1.0000 - val_end_token_out_categorical_accuracy: 0.0167 - val_end_token_out_recall_1: 0.0000e+00 - val_end_token_out_precision_1: 0.0000e+00\n",
            "Epoch 5/100\n",
            "113/113 [==============================] - 47s 421ms/step - loss: 9.3795 - start_token_out_loss: 4.6816 - end_token_out_loss: 4.6980 - start_token_out_categorical_accuracy: 0.0439 - start_token_out_recall: 0.0011 - start_token_out_precision: 1.0000 - end_token_out_categorical_accuracy: 0.0411 - end_token_out_recall_1: 0.0011 - end_token_out_precision_1: 1.0000 - val_loss: 9.4203 - val_start_token_out_loss: 4.6950 - val_end_token_out_loss: 4.7253 - val_start_token_out_categorical_accuracy: 0.0267 - val_start_token_out_recall: 0.0000e+00 - val_start_token_out_precision: 0.0000e+00 - val_end_token_out_categorical_accuracy: 0.0200 - val_end_token_out_recall_1: 0.0000e+00 - val_end_token_out_precision_1: 0.0000e+00\n",
            "Epoch 6/100\n",
            "113/113 [==============================] - 48s 424ms/step - loss: 9.2416 - start_token_out_loss: 4.6198 - end_token_out_loss: 4.6219 - start_token_out_categorical_accuracy: 0.0511 - start_token_out_recall: 2.7778e-04 - start_token_out_precision: 0.5000 - end_token_out_categorical_accuracy: 0.0508 - end_token_out_recall_1: 5.5556e-04 - end_token_out_precision_1: 1.0000 - val_loss: 9.4537 - val_start_token_out_loss: 4.7157 - val_end_token_out_loss: 4.7381 - val_start_token_out_categorical_accuracy: 0.0311 - val_start_token_out_recall: 0.0000e+00 - val_start_token_out_precision: 0.0000e+00 - val_end_token_out_categorical_accuracy: 0.0344 - val_end_token_out_recall_1: 0.0000e+00 - val_end_token_out_precision_1: 0.0000e+00\n",
            "Epoch 7/100\n",
            "113/113 [==============================] - 48s 425ms/step - loss: 9.0469 - start_token_out_loss: 4.5357 - end_token_out_loss: 4.5113 - start_token_out_categorical_accuracy: 0.0622 - start_token_out_recall: 0.0025 - start_token_out_precision: 0.7500 - end_token_out_categorical_accuracy: 0.0658 - end_token_out_recall_1: 0.0022 - end_token_out_precision_1: 0.6154 - val_loss: 9.6233 - val_start_token_out_loss: 4.8029 - val_end_token_out_loss: 4.8204 - val_start_token_out_categorical_accuracy: 0.0200 - val_start_token_out_recall: 0.0011 - val_start_token_out_precision: 0.5000 - val_end_token_out_categorical_accuracy: 0.0267 - val_end_token_out_recall_1: 0.0011 - val_end_token_out_precision_1: 0.5000\n",
            "Epoch 8/100\n",
            "113/113 [==============================] - 48s 424ms/step - loss: 8.8744 - start_token_out_loss: 4.4680 - end_token_out_loss: 4.4064 - start_token_out_categorical_accuracy: 0.0669 - start_token_out_recall: 0.0014 - start_token_out_precision: 0.7143 - end_token_out_categorical_accuracy: 0.0767 - end_token_out_recall_1: 0.0028 - end_token_out_precision_1: 0.8333 - val_loss: 9.5753 - val_start_token_out_loss: 4.7460 - val_end_token_out_loss: 4.8293 - val_start_token_out_categorical_accuracy: 0.0233 - val_start_token_out_recall: 0.0000e+00 - val_start_token_out_precision: 0.0000e+00 - val_end_token_out_categorical_accuracy: 0.0233 - val_end_token_out_recall_1: 0.0000e+00 - val_end_token_out_precision_1: 0.0000e+00\n",
            "Epoch 9/100\n",
            "113/113 [==============================] - 48s 424ms/step - loss: 8.6338 - start_token_out_loss: 4.3632 - end_token_out_loss: 4.2706 - start_token_out_categorical_accuracy: 0.0739 - start_token_out_recall: 0.0000e+00 - start_token_out_precision: 0.0000e+00 - end_token_out_categorical_accuracy: 0.0983 - end_token_out_recall_1: 5.5556e-04 - end_token_out_precision_1: 0.2857 - val_loss: 9.6977 - val_start_token_out_loss: 4.7895 - val_end_token_out_loss: 4.9082 - val_start_token_out_categorical_accuracy: 0.0189 - val_start_token_out_recall: 0.0000e+00 - val_start_token_out_precision: 0.0000e+00 - val_end_token_out_categorical_accuracy: 0.0233 - val_end_token_out_recall_1: 0.0000e+00 - val_end_token_out_precision_1: 0.0000e+00\n",
            "Epoch 10/100\n",
            "113/113 [==============================] - 48s 424ms/step - loss: 8.1683 - start_token_out_loss: 4.1489 - end_token_out_loss: 4.0194 - start_token_out_categorical_accuracy: 0.1081 - start_token_out_recall: 8.3333e-04 - start_token_out_precision: 0.4286 - end_token_out_categorical_accuracy: 0.1289 - end_token_out_recall_1: 0.0033 - end_token_out_precision_1: 0.4286 - val_loss: 10.1046 - val_start_token_out_loss: 5.0098 - val_end_token_out_loss: 5.0948 - val_start_token_out_categorical_accuracy: 0.0233 - val_start_token_out_recall: 0.0000e+00 - val_start_token_out_precision: 0.0000e+00 - val_end_token_out_categorical_accuracy: 0.0200 - val_end_token_out_recall_1: 0.0011 - val_end_token_out_precision_1: 0.3333\n",
            "Epoch 11/100\n",
            "113/113 [==============================] - 48s 424ms/step - loss: 7.5520 - start_token_out_loss: 3.8562 - end_token_out_loss: 3.6958 - start_token_out_categorical_accuracy: 0.1486 - start_token_out_recall: 0.0108 - start_token_out_precision: 0.6000 - end_token_out_categorical_accuracy: 0.1658 - end_token_out_recall_1: 0.0125 - end_token_out_precision_1: 0.4688 - val_loss: 10.3094 - val_start_token_out_loss: 5.0875 - val_end_token_out_loss: 5.2219 - val_start_token_out_categorical_accuracy: 0.0267 - val_start_token_out_recall: 0.0000e+00 - val_start_token_out_precision: 0.0000e+00 - val_end_token_out_categorical_accuracy: 0.0222 - val_end_token_out_recall_1: 0.0011 - val_end_token_out_precision_1: 0.5000\n",
            "Epoch 12/100\n",
            "113/113 [==============================] - 48s 423ms/step - loss: 7.0739 - start_token_out_loss: 3.6260 - end_token_out_loss: 3.4479 - start_token_out_categorical_accuracy: 0.1589 - start_token_out_recall: 0.0108 - start_token_out_precision: 0.4588 - end_token_out_categorical_accuracy: 0.1769 - end_token_out_recall_1: 0.0111 - end_token_out_precision_1: 0.4124 - val_loss: 10.9581 - val_start_token_out_loss: 5.3422 - val_end_token_out_loss: 5.6159 - val_start_token_out_categorical_accuracy: 0.0178 - val_start_token_out_recall: 0.0011 - val_start_token_out_precision: 0.2000 - val_end_token_out_categorical_accuracy: 0.0156 - val_end_token_out_recall_1: 0.0011 - val_end_token_out_precision_1: 0.1250\n",
            "Epoch 13/100\n",
            "113/113 [==============================] - 48s 421ms/step - loss: 6.4067 - start_token_out_loss: 3.2962 - end_token_out_loss: 3.1105 - start_token_out_categorical_accuracy: 0.1953 - start_token_out_recall: 0.0311 - start_token_out_precision: 0.5209 - end_token_out_categorical_accuracy: 0.2108 - end_token_out_recall_1: 0.0372 - end_token_out_precision_1: 0.5654 - val_loss: 11.6960 - val_start_token_out_loss: 5.7144 - val_end_token_out_loss: 5.9817 - val_start_token_out_categorical_accuracy: 0.0156 - val_start_token_out_recall: 0.0000e+00 - val_start_token_out_precision: 0.0000e+00 - val_end_token_out_categorical_accuracy: 0.0156 - val_end_token_out_recall_1: 0.0022 - val_end_token_out_precision_1: 0.0800\n",
            "Epoch 14/100\n",
            "113/113 [==============================] - 48s 425ms/step - loss: 5.7978 - start_token_out_loss: 3.0044 - end_token_out_loss: 2.7934 - start_token_out_categorical_accuracy: 0.2258 - start_token_out_recall: 0.0486 - start_token_out_precision: 0.5573 - end_token_out_categorical_accuracy: 0.2378 - end_token_out_recall_1: 0.0528 - end_token_out_precision_1: 0.5476 - val_loss: 12.1472 - val_start_token_out_loss: 5.9842 - val_end_token_out_loss: 6.1630 - val_start_token_out_categorical_accuracy: 0.0189 - val_start_token_out_recall: 0.0011 - val_start_token_out_precision: 0.0476 - val_end_token_out_categorical_accuracy: 0.0244 - val_end_token_out_recall_1: 0.0022 - val_end_token_out_precision_1: 0.0645\n",
            "Epoch 15/100\n",
            "113/113 [==============================] - 48s 426ms/step - loss: 5.1649 - start_token_out_loss: 2.6832 - end_token_out_loss: 2.4817 - start_token_out_categorical_accuracy: 0.2656 - start_token_out_recall: 0.0708 - start_token_out_precision: 0.5822 - end_token_out_categorical_accuracy: 0.2719 - end_token_out_recall_1: 0.0839 - end_token_out_precision_1: 0.6227 - val_loss: 13.2343 - val_start_token_out_loss: 6.4658 - val_end_token_out_loss: 6.7686 - val_start_token_out_categorical_accuracy: 0.0178 - val_start_token_out_recall: 0.0022 - val_start_token_out_precision: 0.0833 - val_end_token_out_categorical_accuracy: 0.0111 - val_end_token_out_recall_1: 0.0022 - val_end_token_out_precision_1: 0.0667\n",
            "Epoch 16/100\n",
            "113/113 [==============================] - 48s 425ms/step - loss: 5.3380 - start_token_out_loss: 2.7327 - end_token_out_loss: 2.6052 - start_token_out_categorical_accuracy: 0.2750 - start_token_out_recall: 0.0869 - start_token_out_precision: 0.6414 - end_token_out_categorical_accuracy: 0.2939 - end_token_out_recall_1: 0.0925 - end_token_out_precision_1: 0.6555 - val_loss: 13.1856 - val_start_token_out_loss: 6.5510 - val_end_token_out_loss: 6.6345 - val_start_token_out_categorical_accuracy: 0.0167 - val_start_token_out_recall: 0.0000e+00 - val_start_token_out_precision: 0.0000e+00 - val_end_token_out_categorical_accuracy: 0.0144 - val_end_token_out_recall_1: 0.0011 - val_end_token_out_precision_1: 0.0172\n",
            "Epoch 17/100\n",
            "113/113 [==============================] - 48s 424ms/step - loss: 4.6213 - start_token_out_loss: 2.3540 - end_token_out_loss: 2.2673 - start_token_out_categorical_accuracy: 0.3236 - start_token_out_recall: 0.1175 - start_token_out_precision: 0.6599 - end_token_out_categorical_accuracy: 0.3303 - end_token_out_recall_1: 0.1206 - end_token_out_precision_1: 0.6977 - val_loss: 14.3495 - val_start_token_out_loss: 7.2050 - val_end_token_out_loss: 7.1445 - val_start_token_out_categorical_accuracy: 0.0122 - val_start_token_out_recall: 0.0022 - val_start_token_out_precision: 0.0513 - val_end_token_out_categorical_accuracy: 0.0167 - val_end_token_out_recall_1: 0.0044 - val_end_token_out_precision_1: 0.0635\n",
            "Epoch 18/100\n",
            "113/113 [==============================] - 48s 425ms/step - loss: 4.0743 - start_token_out_loss: 2.0856 - end_token_out_loss: 1.9888 - start_token_out_categorical_accuracy: 0.3583 - start_token_out_recall: 0.1561 - start_token_out_precision: 0.6747 - end_token_out_categorical_accuracy: 0.3531 - end_token_out_recall_1: 0.1589 - end_token_out_precision_1: 0.6651 - val_loss: 14.9635 - val_start_token_out_loss: 7.4644 - val_end_token_out_loss: 7.4991 - val_start_token_out_categorical_accuracy: 0.0078 - val_start_token_out_recall: 0.0000e+00 - val_start_token_out_precision: 0.0000e+00 - val_end_token_out_categorical_accuracy: 0.0122 - val_end_token_out_recall_1: 0.0033 - val_end_token_out_precision_1: 0.0224\n",
            "Epoch 19/100\n",
            "113/113 [==============================] - 48s 424ms/step - loss: 3.7490 - start_token_out_loss: 1.9187 - end_token_out_loss: 1.8303 - start_token_out_categorical_accuracy: 0.3717 - start_token_out_recall: 0.1769 - start_token_out_precision: 0.7062 - end_token_out_categorical_accuracy: 0.3800 - end_token_out_recall_1: 0.1853 - end_token_out_precision_1: 0.6869 - val_loss: 15.6011 - val_start_token_out_loss: 7.8287 - val_end_token_out_loss: 7.7724 - val_start_token_out_categorical_accuracy: 0.0133 - val_start_token_out_recall: 0.0067 - val_start_token_out_precision: 0.0375 - val_end_token_out_categorical_accuracy: 0.0200 - val_end_token_out_recall_1: 0.0056 - val_end_token_out_precision_1: 0.0370\n",
            "Epoch 20/100\n",
            "113/113 [==============================] - 48s 424ms/step - loss: 3.4794 - start_token_out_loss: 1.7597 - end_token_out_loss: 1.7197 - start_token_out_categorical_accuracy: 0.4117 - start_token_out_recall: 0.2047 - start_token_out_precision: 0.7087 - end_token_out_categorical_accuracy: 0.4033 - end_token_out_recall_1: 0.2022 - end_token_out_precision_1: 0.6829 - val_loss: 16.4818 - val_start_token_out_loss: 8.4959 - val_end_token_out_loss: 7.9858 - val_start_token_out_categorical_accuracy: 0.0200 - val_start_token_out_recall: 0.0089 - val_start_token_out_precision: 0.0537 - val_end_token_out_categorical_accuracy: 0.0156 - val_end_token_out_recall_1: 0.0056 - val_end_token_out_precision_1: 0.0196\n",
            "Epoch 21/100\n",
            "113/113 [==============================] - 48s 425ms/step - loss: 3.2519 - start_token_out_loss: 1.6438 - end_token_out_loss: 1.6081 - start_token_out_categorical_accuracy: 0.4186 - start_token_out_recall: 0.2333 - start_token_out_precision: 0.7204 - end_token_out_categorical_accuracy: 0.4306 - end_token_out_recall_1: 0.2403 - end_token_out_precision_1: 0.6987 - val_loss: 16.8649 - val_start_token_out_loss: 8.5926 - val_end_token_out_loss: 8.2723 - val_start_token_out_categorical_accuracy: 0.0156 - val_start_token_out_recall: 0.0022 - val_start_token_out_precision: 0.0225 - val_end_token_out_categorical_accuracy: 0.0167 - val_end_token_out_recall_1: 0.0033 - val_end_token_out_precision_1: 0.0236\n",
            "Epoch 22/100\n",
            "113/113 [==============================] - 48s 425ms/step - loss: 3.0975 - start_token_out_loss: 1.5626 - end_token_out_loss: 1.5349 - start_token_out_categorical_accuracy: 0.4486 - start_token_out_recall: 0.2469 - start_token_out_precision: 0.7489 - end_token_out_categorical_accuracy: 0.4519 - end_token_out_recall_1: 0.2514 - end_token_out_precision_1: 0.7257 - val_loss: 17.4690 - val_start_token_out_loss: 9.0062 - val_end_token_out_loss: 8.4628 - val_start_token_out_categorical_accuracy: 0.0178 - val_start_token_out_recall: 0.0044 - val_start_token_out_precision: 0.0182 - val_end_token_out_categorical_accuracy: 0.0122 - val_end_token_out_recall_1: 0.0033 - val_end_token_out_precision_1: 0.0114\n",
            "Epoch 23/100\n",
            "113/113 [==============================] - 48s 424ms/step - loss: 2.8817 - start_token_out_loss: 1.4442 - end_token_out_loss: 1.4375 - start_token_out_categorical_accuracy: 0.4733 - start_token_out_recall: 0.2933 - start_token_out_precision: 0.7431 - end_token_out_categorical_accuracy: 0.4622 - end_token_out_recall_1: 0.2819 - end_token_out_precision_1: 0.7163 - val_loss: 17.5702 - val_start_token_out_loss: 9.1953 - val_end_token_out_loss: 8.3749 - val_start_token_out_categorical_accuracy: 0.0244 - val_start_token_out_recall: 0.0122 - val_start_token_out_precision: 0.0287 - val_end_token_out_categorical_accuracy: 0.0144 - val_end_token_out_recall_1: 0.0022 - val_end_token_out_precision_1: 0.0076\n",
            "Epoch 24/100\n",
            "113/113 [==============================] - 48s 424ms/step - loss: 2.7955 - start_token_out_loss: 1.3909 - end_token_out_loss: 1.4046 - start_token_out_categorical_accuracy: 0.4917 - start_token_out_recall: 0.3064 - start_token_out_precision: 0.7388 - end_token_out_categorical_accuracy: 0.4808 - end_token_out_recall_1: 0.2883 - end_token_out_precision_1: 0.7144 - val_loss: 18.8337 - val_start_token_out_loss: 9.5287 - val_end_token_out_loss: 9.3050 - val_start_token_out_categorical_accuracy: 0.0189 - val_start_token_out_recall: 0.0078 - val_start_token_out_precision: 0.0210 - val_end_token_out_categorical_accuracy: 0.0111 - val_end_token_out_recall_1: 0.0056 - val_end_token_out_precision_1: 0.0152\n",
            "Epoch 25/100\n",
            "113/113 [==============================] - 48s 423ms/step - loss: 2.5624 - start_token_out_loss: 1.2773 - end_token_out_loss: 1.2851 - start_token_out_categorical_accuracy: 0.5267 - start_token_out_recall: 0.3567 - start_token_out_precision: 0.7544 - end_token_out_categorical_accuracy: 0.5253 - end_token_out_recall_1: 0.3500 - end_token_out_precision_1: 0.7473 - val_loss: 19.2586 - val_start_token_out_loss: 9.7263 - val_end_token_out_loss: 9.5323 - val_start_token_out_categorical_accuracy: 0.0178 - val_start_token_out_recall: 0.0044 - val_start_token_out_precision: 0.0220 - val_end_token_out_categorical_accuracy: 0.0078 - val_end_token_out_recall_1: 0.0011 - val_end_token_out_precision_1: 0.0040\n",
            "Epoch 26/100\n",
            "113/113 [==============================] - 48s 424ms/step - loss: 2.4812 - start_token_out_loss: 1.2271 - end_token_out_loss: 1.2541 - start_token_out_categorical_accuracy: 0.5347 - start_token_out_recall: 0.3742 - start_token_out_precision: 0.7602 - end_token_out_categorical_accuracy: 0.5303 - end_token_out_recall_1: 0.3658 - end_token_out_precision_1: 0.7441 - val_loss: 19.3031 - val_start_token_out_loss: 9.9024 - val_end_token_out_loss: 9.4007 - val_start_token_out_categorical_accuracy: 0.0133 - val_start_token_out_recall: 0.0078 - val_start_token_out_precision: 0.0190 - val_end_token_out_categorical_accuracy: 0.0089 - val_end_token_out_recall_1: 0.0044 - val_end_token_out_precision_1: 0.0115\n",
            "Epoch 27/100\n",
            "113/113 [==============================] - 48s 425ms/step - loss: 2.3454 - start_token_out_loss: 1.1555 - end_token_out_loss: 1.1899 - start_token_out_categorical_accuracy: 0.5750 - start_token_out_recall: 0.4194 - start_token_out_precision: 0.7696 - end_token_out_categorical_accuracy: 0.5628 - end_token_out_recall_1: 0.3953 - end_token_out_precision_1: 0.7557 - val_loss: 19.4760 - val_start_token_out_loss: 9.8859 - val_end_token_out_loss: 9.5901 - val_start_token_out_categorical_accuracy: 0.0189 - val_start_token_out_recall: 0.0122 - val_start_token_out_precision: 0.0303 - val_end_token_out_categorical_accuracy: 0.0089 - val_end_token_out_recall_1: 0.0033 - val_end_token_out_precision_1: 0.0074\n",
            "Epoch 28/100\n",
            "113/113 [==============================] - 48s 425ms/step - loss: 2.2088 - start_token_out_loss: 1.0855 - end_token_out_loss: 1.1233 - start_token_out_categorical_accuracy: 0.5883 - start_token_out_recall: 0.4436 - start_token_out_precision: 0.7708 - end_token_out_categorical_accuracy: 0.5800 - end_token_out_recall_1: 0.4319 - end_token_out_precision_1: 0.7571 - val_loss: 19.7906 - val_start_token_out_loss: 10.0606 - val_end_token_out_loss: 9.7300 - val_start_token_out_categorical_accuracy: 0.0211 - val_start_token_out_recall: 0.0144 - val_start_token_out_precision: 0.0284 - val_end_token_out_categorical_accuracy: 0.0100 - val_end_token_out_recall_1: 0.0056 - val_end_token_out_precision_1: 0.0125\n",
            "Epoch 29/100\n",
            "113/113 [==============================] - 48s 426ms/step - loss: 2.0779 - start_token_out_loss: 1.0012 - end_token_out_loss: 1.0767 - start_token_out_categorical_accuracy: 0.6228 - start_token_out_recall: 0.4808 - start_token_out_precision: 0.7857 - end_token_out_categorical_accuracy: 0.5969 - end_token_out_recall_1: 0.4508 - end_token_out_precision_1: 0.7681 - val_loss: 19.9725 - val_start_token_out_loss: 10.2337 - val_end_token_out_loss: 9.7387 - val_start_token_out_categorical_accuracy: 0.0178 - val_start_token_out_recall: 0.0111 - val_start_token_out_precision: 0.0204 - val_end_token_out_categorical_accuracy: 0.0067 - val_end_token_out_recall_1: 0.0033 - val_end_token_out_precision_1: 0.0093\n",
            "Epoch 30/100\n",
            "113/113 [==============================] - 48s 425ms/step - loss: 1.9634 - start_token_out_loss: 0.9591 - end_token_out_loss: 1.0042 - start_token_out_categorical_accuracy: 0.6400 - start_token_out_recall: 0.5103 - start_token_out_precision: 0.7970 - end_token_out_categorical_accuracy: 0.6189 - end_token_out_recall_1: 0.4853 - end_token_out_precision_1: 0.7841 - val_loss: 21.5293 - val_start_token_out_loss: 10.9961 - val_end_token_out_loss: 10.5332 - val_start_token_out_categorical_accuracy: 0.0144 - val_start_token_out_recall: 0.0078 - val_start_token_out_precision: 0.0142 - val_end_token_out_categorical_accuracy: 0.0067 - val_end_token_out_recall_1: 0.0022 - val_end_token_out_precision_1: 0.0046\n",
            "Epoch 31/100\n",
            "113/113 [==============================] - 48s 425ms/step - loss: 1.9435 - start_token_out_loss: 0.9464 - end_token_out_loss: 0.9970 - start_token_out_categorical_accuracy: 0.6383 - start_token_out_recall: 0.5139 - start_token_out_precision: 0.7916 - end_token_out_categorical_accuracy: 0.6164 - end_token_out_recall_1: 0.4864 - end_token_out_precision_1: 0.7793 - val_loss: 21.7543 - val_start_token_out_loss: 11.0818 - val_end_token_out_loss: 10.6725 - val_start_token_out_categorical_accuracy: 0.0067 - val_start_token_out_recall: 0.0044 - val_start_token_out_precision: 0.0097 - val_end_token_out_categorical_accuracy: 0.0078 - val_end_token_out_recall_1: 0.0056 - val_end_token_out_precision_1: 0.0141\n",
            "Epoch 32/100\n",
            "113/113 [==============================] - 48s 426ms/step - loss: 1.8114 - start_token_out_loss: 0.8664 - end_token_out_loss: 0.9450 - start_token_out_categorical_accuracy: 0.6650 - start_token_out_recall: 0.5439 - start_token_out_precision: 0.8081 - end_token_out_categorical_accuracy: 0.6358 - end_token_out_recall_1: 0.5125 - end_token_out_precision_1: 0.7949 - val_loss: 21.9463 - val_start_token_out_loss: 11.2710 - val_end_token_out_loss: 10.6752 - val_start_token_out_categorical_accuracy: 0.0133 - val_start_token_out_recall: 0.0078 - val_start_token_out_precision: 0.0126 - val_end_token_out_categorical_accuracy: 0.0089 - val_end_token_out_recall_1: 0.0067 - val_end_token_out_precision_1: 0.0113\n",
            "Epoch 33/100\n",
            "113/113 [==============================] - 48s 425ms/step - loss: 1.7082 - start_token_out_loss: 0.8296 - end_token_out_loss: 0.8786 - start_token_out_categorical_accuracy: 0.6828 - start_token_out_recall: 0.5742 - start_token_out_precision: 0.8209 - end_token_out_categorical_accuracy: 0.6631 - end_token_out_recall_1: 0.5611 - end_token_out_precision_1: 0.7943 - val_loss: 22.2481 - val_start_token_out_loss: 11.2659 - val_end_token_out_loss: 10.9822 - val_start_token_out_categorical_accuracy: 0.0133 - val_start_token_out_recall: 0.0078 - val_start_token_out_precision: 0.0135 - val_end_token_out_categorical_accuracy: 0.0111 - val_end_token_out_recall_1: 0.0056 - val_end_token_out_precision_1: 0.0098\n",
            "Epoch 34/100\n",
            "113/113 [==============================] - 48s 426ms/step - loss: 1.6708 - start_token_out_loss: 0.7994 - end_token_out_loss: 0.8714 - start_token_out_categorical_accuracy: 0.6967 - start_token_out_recall: 0.5944 - start_token_out_precision: 0.8304 - end_token_out_categorical_accuracy: 0.6653 - end_token_out_recall_1: 0.5614 - end_token_out_precision_1: 0.8020 - val_loss: 23.0220 - val_start_token_out_loss: 11.6743 - val_end_token_out_loss: 11.3477 - val_start_token_out_categorical_accuracy: 0.0122 - val_start_token_out_recall: 0.0078 - val_start_token_out_precision: 0.0126 - val_end_token_out_categorical_accuracy: 0.0089 - val_end_token_out_recall_1: 0.0067 - val_end_token_out_precision_1: 0.0119\n",
            "Epoch 35/100\n",
            "113/113 [==============================] - 48s 425ms/step - loss: 1.5257 - start_token_out_loss: 0.7223 - end_token_out_loss: 0.8035 - start_token_out_categorical_accuracy: 0.7264 - start_token_out_recall: 0.6372 - start_token_out_precision: 0.8409 - end_token_out_categorical_accuracy: 0.6919 - end_token_out_recall_1: 0.5983 - end_token_out_precision_1: 0.8110 - val_loss: 24.3403 - val_start_token_out_loss: 12.3398 - val_end_token_out_loss: 12.0005 - val_start_token_out_categorical_accuracy: 0.0067 - val_start_token_out_recall: 0.0056 - val_start_token_out_precision: 0.0109 - val_end_token_out_categorical_accuracy: 0.0044 - val_end_token_out_recall_1: 0.0044 - val_end_token_out_precision_1: 0.0089\n",
            "Epoch 36/100\n",
            "113/113 [==============================] - 48s 426ms/step - loss: 1.5106 - start_token_out_loss: 0.7230 - end_token_out_loss: 0.7877 - start_token_out_categorical_accuracy: 0.7339 - start_token_out_recall: 0.6483 - start_token_out_precision: 0.8369 - end_token_out_categorical_accuracy: 0.6994 - end_token_out_recall_1: 0.6181 - end_token_out_precision_1: 0.8165 - val_loss: 23.7452 - val_start_token_out_loss: 12.0912 - val_end_token_out_loss: 11.6541 - val_start_token_out_categorical_accuracy: 0.0133 - val_start_token_out_recall: 0.0067 - val_start_token_out_precision: 0.0107 - val_end_token_out_categorical_accuracy: 0.0100 - val_end_token_out_recall_1: 0.0044 - val_end_token_out_precision_1: 0.0071\n",
            "Epoch 37/100\n",
            "113/113 [==============================] - 48s 425ms/step - loss: 1.4409 - start_token_out_loss: 0.6973 - end_token_out_loss: 0.7436 - start_token_out_categorical_accuracy: 0.7292 - start_token_out_recall: 0.6431 - start_token_out_precision: 0.8342 - end_token_out_categorical_accuracy: 0.7144 - end_token_out_recall_1: 0.6253 - end_token_out_precision_1: 0.8206 - val_loss: 23.7144 - val_start_token_out_loss: 11.9164 - val_end_token_out_loss: 11.7980 - val_start_token_out_categorical_accuracy: 0.0133 - val_start_token_out_recall: 0.0100 - val_start_token_out_precision: 0.0160 - val_end_token_out_categorical_accuracy: 0.0067 - val_end_token_out_recall_1: 0.0033 - val_end_token_out_precision_1: 0.0061\n",
            "Epoch 38/100\n",
            "113/113 [==============================] - 48s 426ms/step - loss: 1.3536 - start_token_out_loss: 0.6400 - end_token_out_loss: 0.7136 - start_token_out_categorical_accuracy: 0.7583 - start_token_out_recall: 0.6817 - start_token_out_precision: 0.8474 - end_token_out_categorical_accuracy: 0.7344 - end_token_out_recall_1: 0.6544 - end_token_out_precision_1: 0.8361 - val_loss: 24.5228 - val_start_token_out_loss: 12.3148 - val_end_token_out_loss: 12.2080 - val_start_token_out_categorical_accuracy: 0.0144 - val_start_token_out_recall: 0.0078 - val_start_token_out_precision: 0.0139 - val_end_token_out_categorical_accuracy: 0.0067 - val_end_token_out_recall_1: 0.0022 - val_end_token_out_precision_1: 0.0041\n",
            "Epoch 39/100\n",
            "113/113 [==============================] - 48s 427ms/step - loss: 1.2934 - start_token_out_loss: 0.6252 - end_token_out_loss: 0.6681 - start_token_out_categorical_accuracy: 0.7653 - start_token_out_recall: 0.6917 - start_token_out_precision: 0.8589 - end_token_out_categorical_accuracy: 0.7436 - end_token_out_recall_1: 0.6619 - end_token_out_precision_1: 0.8356 - val_loss: 26.0870 - val_start_token_out_loss: 13.1553 - val_end_token_out_loss: 12.9316 - val_start_token_out_categorical_accuracy: 0.0144 - val_start_token_out_recall: 0.0078 - val_start_token_out_precision: 0.0113 - val_end_token_out_categorical_accuracy: 0.0067 - val_end_token_out_recall_1: 0.0033 - val_end_token_out_precision_1: 0.0051\n",
            "Epoch 40/100\n",
            "113/113 [==============================] - 48s 427ms/step - loss: 1.2427 - start_token_out_loss: 0.5916 - end_token_out_loss: 0.6511 - start_token_out_categorical_accuracy: 0.7811 - start_token_out_recall: 0.7194 - start_token_out_precision: 0.8654 - end_token_out_categorical_accuracy: 0.7542 - end_token_out_recall_1: 0.6828 - end_token_out_precision_1: 0.8493 - val_loss: 25.4813 - val_start_token_out_loss: 12.8161 - val_end_token_out_loss: 12.6652 - val_start_token_out_categorical_accuracy: 0.0156 - val_start_token_out_recall: 0.0100 - val_start_token_out_precision: 0.0148 - val_end_token_out_categorical_accuracy: 0.0044 - val_end_token_out_recall_1: 0.0033 - val_end_token_out_precision_1: 0.0051\n",
            "Epoch 41/100\n",
            "113/113 [==============================] - 48s 426ms/step - loss: 1.1852 - start_token_out_loss: 0.5645 - end_token_out_loss: 0.6208 - start_token_out_categorical_accuracy: 0.7928 - start_token_out_recall: 0.7314 - start_token_out_precision: 0.8661 - end_token_out_categorical_accuracy: 0.7678 - end_token_out_recall_1: 0.7078 - end_token_out_precision_1: 0.8539 - val_loss: 26.2752 - val_start_token_out_loss: 13.0148 - val_end_token_out_loss: 13.2603 - val_start_token_out_categorical_accuracy: 0.0144 - val_start_token_out_recall: 0.0133 - val_start_token_out_precision: 0.0208 - val_end_token_out_categorical_accuracy: 0.0067 - val_end_token_out_recall_1: 0.0033 - val_end_token_out_precision_1: 0.0056\n",
            "Epoch 42/100\n",
            "113/113 [==============================] - 48s 427ms/step - loss: 1.0701 - start_token_out_loss: 0.5006 - end_token_out_loss: 0.5695 - start_token_out_categorical_accuracy: 0.8106 - start_token_out_recall: 0.7542 - start_token_out_precision: 0.8795 - end_token_out_categorical_accuracy: 0.7847 - end_token_out_recall_1: 0.7242 - end_token_out_precision_1: 0.8615 - val_loss: 27.3796 - val_start_token_out_loss: 13.8303 - val_end_token_out_loss: 13.5493 - val_start_token_out_categorical_accuracy: 0.0189 - val_start_token_out_recall: 0.0111 - val_start_token_out_precision: 0.0160 - val_end_token_out_categorical_accuracy: 0.0111 - val_end_token_out_recall_1: 0.0044 - val_end_token_out_precision_1: 0.0072\n",
            "Epoch 43/100\n",
            "113/113 [==============================] - 48s 427ms/step - loss: 1.0427 - start_token_out_loss: 0.4860 - end_token_out_loss: 0.5567 - start_token_out_categorical_accuracy: 0.8247 - start_token_out_recall: 0.7775 - start_token_out_precision: 0.8897 - end_token_out_categorical_accuracy: 0.7911 - end_token_out_recall_1: 0.7333 - end_token_out_precision_1: 0.8673 - val_loss: 27.9680 - val_start_token_out_loss: 13.9903 - val_end_token_out_loss: 13.9777 - val_start_token_out_categorical_accuracy: 0.0111 - val_start_token_out_recall: 0.0078 - val_start_token_out_precision: 0.0122 - val_end_token_out_categorical_accuracy: 0.0122 - val_end_token_out_recall_1: 0.0056 - val_end_token_out_precision_1: 0.0090\n",
            "Epoch 44/100\n",
            "113/113 [==============================] - 48s 426ms/step - loss: 1.0486 - start_token_out_loss: 0.5073 - end_token_out_loss: 0.5413 - start_token_out_categorical_accuracy: 0.8164 - start_token_out_recall: 0.7731 - start_token_out_precision: 0.8779 - end_token_out_categorical_accuracy: 0.7931 - end_token_out_recall_1: 0.7408 - end_token_out_precision_1: 0.8642 - val_loss: 28.2346 - val_start_token_out_loss: 14.1043 - val_end_token_out_loss: 14.1303 - val_start_token_out_categorical_accuracy: 0.0111 - val_start_token_out_recall: 0.0078 - val_start_token_out_precision: 0.0109 - val_end_token_out_categorical_accuracy: 0.0078 - val_end_token_out_recall_1: 0.0067 - val_end_token_out_precision_1: 0.0100\n",
            "Epoch 45/100\n",
            "113/113 [==============================] - 48s 426ms/step - loss: 0.9812 - start_token_out_loss: 0.4581 - end_token_out_loss: 0.5231 - start_token_out_categorical_accuracy: 0.8281 - start_token_out_recall: 0.7844 - start_token_out_precision: 0.8861 - end_token_out_categorical_accuracy: 0.8017 - end_token_out_recall_1: 0.7494 - end_token_out_precision_1: 0.8681 - val_loss: 27.5151 - val_start_token_out_loss: 13.9306 - val_end_token_out_loss: 13.5846 - val_start_token_out_categorical_accuracy: 0.0156 - val_start_token_out_recall: 0.0111 - val_start_token_out_precision: 0.0142 - val_end_token_out_categorical_accuracy: 0.0167 - val_end_token_out_recall_1: 0.0100 - val_end_token_out_precision_1: 0.0138\n",
            "Epoch 46/100\n",
            "113/113 [==============================] - 48s 425ms/step - loss: 0.9892 - start_token_out_loss: 0.4593 - end_token_out_loss: 0.5299 - start_token_out_categorical_accuracy: 0.8364 - start_token_out_recall: 0.7925 - start_token_out_precision: 0.8969 - end_token_out_categorical_accuracy: 0.8058 - end_token_out_recall_1: 0.7544 - end_token_out_precision_1: 0.8764 - val_loss: 27.4370 - val_start_token_out_loss: 13.9474 - val_end_token_out_loss: 13.4896 - val_start_token_out_categorical_accuracy: 0.0133 - val_start_token_out_recall: 0.0122 - val_start_token_out_precision: 0.0168 - val_end_token_out_categorical_accuracy: 0.0089 - val_end_token_out_recall_1: 0.0044 - val_end_token_out_precision_1: 0.0065\n",
            "Epoch 47/100\n",
            "113/113 [==============================] - 48s 426ms/step - loss: 0.9494 - start_token_out_loss: 0.4392 - end_token_out_loss: 0.5102 - start_token_out_categorical_accuracy: 0.8347 - start_token_out_recall: 0.7969 - start_token_out_precision: 0.8952 - end_token_out_categorical_accuracy: 0.8072 - end_token_out_recall_1: 0.7578 - end_token_out_precision_1: 0.8735 - val_loss: 28.6801 - val_start_token_out_loss: 14.4817 - val_end_token_out_loss: 14.1984 - val_start_token_out_categorical_accuracy: 0.0056 - val_start_token_out_recall: 0.0056 - val_start_token_out_precision: 0.0076 - val_end_token_out_categorical_accuracy: 0.0111 - val_end_token_out_recall_1: 0.0100 - val_end_token_out_precision_1: 0.0145\n",
            "Epoch 48/100\n",
            "113/113 [==============================] - 48s 428ms/step - loss: 0.8586 - start_token_out_loss: 0.3991 - end_token_out_loss: 0.4595 - start_token_out_categorical_accuracy: 0.8569 - start_token_out_recall: 0.8222 - start_token_out_precision: 0.9069 - end_token_out_categorical_accuracy: 0.8292 - end_token_out_recall_1: 0.7883 - end_token_out_precision_1: 0.8930 - val_loss: 29.2003 - val_start_token_out_loss: 14.7428 - val_end_token_out_loss: 14.4574 - val_start_token_out_categorical_accuracy: 0.0167 - val_start_token_out_recall: 0.0144 - val_start_token_out_precision: 0.0195 - val_end_token_out_categorical_accuracy: 0.0122 - val_end_token_out_recall_1: 0.0111 - val_end_token_out_precision_1: 0.0152\n",
            "Epoch 49/100\n",
            "113/113 [==============================] - 48s 427ms/step - loss: 0.9133 - start_token_out_loss: 0.4264 - end_token_out_loss: 0.4869 - start_token_out_categorical_accuracy: 0.8433 - start_token_out_recall: 0.8103 - start_token_out_precision: 0.8923 - end_token_out_categorical_accuracy: 0.8272 - end_token_out_recall_1: 0.7844 - end_token_out_precision_1: 0.8889 - val_loss: 28.2047 - val_start_token_out_loss: 14.2283 - val_end_token_out_loss: 13.9764 - val_start_token_out_categorical_accuracy: 0.0156 - val_start_token_out_recall: 0.0100 - val_start_token_out_precision: 0.0140 - val_end_token_out_categorical_accuracy: 0.0089 - val_end_token_out_recall_1: 0.0067 - val_end_token_out_precision_1: 0.0096\n",
            "Epoch 50/100\n",
            "113/113 [==============================] - 48s 426ms/step - loss: 0.8326 - start_token_out_loss: 0.3783 - end_token_out_loss: 0.4544 - start_token_out_categorical_accuracy: 0.8625 - start_token_out_recall: 0.8331 - start_token_out_precision: 0.9036 - end_token_out_categorical_accuracy: 0.8294 - end_token_out_recall_1: 0.7858 - end_token_out_precision_1: 0.8871 - val_loss: 28.7922 - val_start_token_out_loss: 14.4913 - val_end_token_out_loss: 14.3009 - val_start_token_out_categorical_accuracy: 0.0189 - val_start_token_out_recall: 0.0167 - val_start_token_out_precision: 0.0224 - val_end_token_out_categorical_accuracy: 0.0111 - val_end_token_out_recall_1: 0.0056 - val_end_token_out_precision_1: 0.0083\n",
            "Epoch 51/100\n",
            "113/113 [==============================] - 48s 426ms/step - loss: 0.8047 - start_token_out_loss: 0.3667 - end_token_out_loss: 0.4381 - start_token_out_categorical_accuracy: 0.8675 - start_token_out_recall: 0.8356 - start_token_out_precision: 0.9090 - end_token_out_categorical_accuracy: 0.8458 - end_token_out_recall_1: 0.8069 - end_token_out_precision_1: 0.9039 - val_loss: 29.2912 - val_start_token_out_loss: 15.1375 - val_end_token_out_loss: 14.1537 - val_start_token_out_categorical_accuracy: 0.0133 - val_start_token_out_recall: 0.0111 - val_start_token_out_precision: 0.0139 - val_end_token_out_categorical_accuracy: 0.0144 - val_end_token_out_recall_1: 0.0089 - val_end_token_out_precision_1: 0.0123\n",
            "Epoch 52/100\n",
            "113/113 [==============================] - 48s 427ms/step - loss: 0.8027 - start_token_out_loss: 0.3573 - end_token_out_loss: 0.4453 - start_token_out_categorical_accuracy: 0.8750 - start_token_out_recall: 0.8475 - start_token_out_precision: 0.9148 - end_token_out_categorical_accuracy: 0.8458 - end_token_out_recall_1: 0.8044 - end_token_out_precision_1: 0.9030 - val_loss: 29.5656 - val_start_token_out_loss: 14.9870 - val_end_token_out_loss: 14.5786 - val_start_token_out_categorical_accuracy: 0.0167 - val_start_token_out_recall: 0.0111 - val_start_token_out_precision: 0.0148 - val_end_token_out_categorical_accuracy: 0.0111 - val_end_token_out_recall_1: 0.0111 - val_end_token_out_precision_1: 0.0155\n",
            "Epoch 53/100\n",
            "  5/113 [>.............................] - ETA: 41s - loss: 0.6490 - start_token_out_loss: 0.3411 - end_token_out_loss: 0.3079 - start_token_out_categorical_accuracy: 0.8938 - start_token_out_recall: 0.8438 - start_token_out_precision: 0.9000 - end_token_out_categorical_accuracy: 0.8750 - end_token_out_recall_1: 0.8375 - end_token_out_precision_1: 0.9178"
          ],
          "name": "stdout"
        }
      ]
    },
    {
      "cell_type": "code",
      "metadata": {
        "colab": {
          "base_uri": "https://localhost:8080/"
        },
        "id": "pMweaniwvrP0",
        "outputId": "b1aaeb72-dbea-4f14-cbf6-7d6d0e0e34cb"
      },
      "source": [
        "## We check for number of epochs and the best loss achieved.\n",
        "print('Epoch: {0}'.format(len(history.history['loss'])))\n",
        "print('Loss: {0}'.format(history.history['loss'][-1]))"
      ],
      "execution_count": null,
      "outputs": [
        {
          "output_type": "stream",
          "text": [
            "Epoch: 50\n",
            "Loss: 0.580427885055542\n"
          ],
          "name": "stdout"
        }
      ]
    },
    {
      "cell_type": "markdown",
      "metadata": {
        "id": "xvbGvEc1OpRp"
      },
      "source": [
        "### Model Performance Visualizations "
      ]
    },
    {
      "cell_type": "code",
      "metadata": {
        "colab": {
          "base_uri": "https://localhost:8080/",
          "height": 353
        },
        "id": "AANvAc0JgS05",
        "outputId": "80ed9d8e-0bac-4a9d-98db-3b9a67bb446f"
      },
      "source": [
        "fig, ax = plt.subplots(1, 2, figsize=(15, 5))\n",
        "\n",
        "ax[0].set_title('Training Loss')\n",
        "ax[0].plot(history.history['loss'])\n",
        "\n",
        "ax[1].set_title('Validation Loss')\n",
        "ax[1].plot(history.history['val_loss'])"
      ],
      "execution_count": null,
      "outputs": [
        {
          "output_type": "execute_result",
          "data": {
            "text/plain": [
              "[<matplotlib.lines.Line2D at 0x7eff025297d0>]"
            ]
          },
          "metadata": {
            "tags": []
          },
          "execution_count": 23
        },
        {
          "output_type": "display_data",
          "data": {
            "image/png": "[encoded data removed]",
            "text/plain": [
              "<Figure size 1080x360 with 2 Axes>"
            ]
          },
          "metadata": {
            "tags": [],
            "needs_background": "light"
          }
        }
      ]
    },
    {
      "cell_type": "code",
      "metadata": {
        "colab": {
          "base_uri": "https://localhost:8080/",
          "height": 663
        },
        "id": "BG7OlAL1gcmj",
        "outputId": "1fcb68c2-f887-431e-b133-9cf40861fb52"
      },
      "source": [
        "fig, ax = plt.subplots(3, 2, figsize=(15, 10))\n",
        "\n",
        "fig.suptitle('Start Token')\n",
        "\n",
        "ax[0,0].set_title('Training Accuracy')\n",
        "ax[0,0].plot(history.history['start_token_out_categorical_accuracy'])\n",
        "\n",
        "ax[0,1].set_title('Validation Accuracy')\n",
        "ax[0,1].plot(history.history['val_start_token_out_categorical_accuracy'])\n",
        "\n",
        "ax[1,0].set_title('Training Recall')\n",
        "ax[1,0].plot(history.history['start_token_out_recall'])\n",
        "\n",
        "ax[1,1].set_title('Validation Recall')\n",
        "ax[1,1].plot(history.history['val_start_token_out_recall'])\n",
        "\n",
        "ax[2,0].set_title('Training Precision')\n",
        "ax[2,0].plot(history.history['start_token_out_precision'])\n",
        "\n",
        "ax[2,1].set_title('Validation Precision')\n",
        "ax[2,1].plot(history.history['val_start_token_out_precision'])\n",
        "plt.show()"
      ],
      "execution_count": null,
      "outputs": [
        {
          "output_type": "display_data",
          "data": {
            "image/png": "[encoded data removed]",
            "text/plain": [
              "<Figure size 1080x720 with 6 Axes>"
            ]
          },
          "metadata": {
            "tags": [],
            "needs_background": "light"
          }
        }
      ]
    },
    {
      "cell_type": "code",
      "metadata": {
        "colab": {
          "base_uri": "https://localhost:8080/",
          "height": 663
        },
        "id": "VdR_LkcZiV-w",
        "outputId": "5fd15429-39f9-4a2c-bfd2-9ab307f8b372"
      },
      "source": [
        "fig, ax = plt.subplots(3, 2, figsize=(15, 10))\n",
        "\n",
        "fig.suptitle('End Token')\n",
        "\n",
        "ax[0,0].set_title('Training Accuracy')\n",
        "ax[0,0].plot(history.history['end_token_out_categorical_accuracy'])\n",
        "\n",
        "ax[0,1].set_title('Validation Accuracy')\n",
        "ax[0,1].plot(history.history['val_end_token_out_categorical_accuracy'])\n",
        "\n",
        "ax[1,0].set_title('Training Recall')\n",
        "ax[1,0].plot(history.history['end_token_out_recall_1'])\n",
        "\n",
        "ax[1,1].set_title('Validation Recall')\n",
        "ax[1,1].plot(history.history['val_end_token_out_recall_1'])\n",
        "\n",
        "ax[2,0].set_title('Training Precision')\n",
        "ax[2,0].plot(history.history['end_token_out_precision_1'])\n",
        "\n",
        "ax[2,1].set_title('Validation Precision')\n",
        "ax[2,1].plot(history.history['val_end_token_out_precision_1'])\n",
        "plt.show()"
      ],
      "execution_count": null,
      "outputs": [
        {
          "output_type": "display_data",
          "data": {
            "image/png": "[encoded data removed]",
            "text/plain": [
              "<Figure size 1080x720 with 6 Axes>"
            ]
          },
          "metadata": {
            "tags": [],
            "needs_background": "light"
          }
        }
      ]
    },
    {
      "cell_type": "markdown",
      "metadata": {
        "id": "FwelEWS5gl0e"
      },
      "source": [
        "# Validation Report on Start and End Tokens"
      ]
    },
    {
      "cell_type": "code",
      "metadata": {
        "colab": {
          "base_uri": "https://localhost:8080/"
        },
        "id": "sFwGGQI6iZrk",
        "outputId": "c286fdec-d05e-4950-e9ac-81a0e0b892a3"
      },
      "source": [
        "accuracy = history.history['start_token_out_categorical_accuracy'][-1]\n",
        "recall = history.history['start_token_out_recall'][-1]\n",
        "precision = history.history['start_token_out_precision'][-1]\n",
        "\n",
        "\n",
        "print('Training')\n",
        "print('Start token accuracy: {0}'.format(accuracy))\n",
        "print('Start token recall: {0}'.format(recall))\n",
        "print('Start token precision: {0}'.format(precision))\n",
        "print('Start token F1 score: {0:.4f}'.format(\n",
        "    2 * (precision * recall) / (precision + recall)\n",
        "))\n",
        "\n",
        "accuracy = history.history['end_token_out_categorical_accuracy'][-1]\n",
        "recall = history.history['end_token_out_recall_1'][-1]\n",
        "precision = history.history['end_token_out_precision_1'][-1]\n",
        "\n",
        "print('End token accuracy: {0}'.format(accuracy))\n",
        "print('End token recall: {0}'.format(recall))\n",
        "print('End token precision: {0}'.format(precision))\n",
        "print('End token F1 score: {0:.4f}'.format(\n",
        "    2 * (precision * recall) / (precision + recall)\n",
        "))"
      ],
      "execution_count": null,
      "outputs": [
        {
          "output_type": "stream",
          "text": [
            "Training\n",
            "Start token accuracy: 0.9006666541099548\n",
            "Start token recall: 0.8764444589614868\n",
            "Start token precision: 0.928218424320221\n",
            "Start token F1 score: 0.9016\n",
            "End token accuracy: 0.8704444169998169\n",
            "End token recall: 0.8417778015136719\n",
            "End token precision: 0.90687096118927\n",
            "End token F1 score: 0.8731\n"
          ],
          "name": "stdout"
        }
      ]
    },
    {
      "cell_type": "markdown",
      "metadata": {
        "id": "sE1H9EY8gVHD"
      },
      "source": [
        "# Validation Report"
      ]
    },
    {
      "cell_type": "code",
      "metadata": {
        "colab": {
          "base_uri": "https://localhost:8080/"
        },
        "id": "eiEQyAIkiq5r",
        "outputId": "1a61f0f5-9c51-4b74-9606-e95be83cb946"
      },
      "source": [
        "accuracy = history.history['val_start_token_out_categorical_accuracy'][-1]\n",
        "recall = history.history['val_start_token_out_recall'][-1]\n",
        "precision = history.history['val_start_token_out_precision'][-1]\n",
        "\n",
        "\n",
        "print('Validation')\n",
        "print('Start token accuracy: {0}'.format(accuracy))\n",
        "print('Start token recall: {0}'.format(recall))\n",
        "print('Start token precision: {0}'.format(precision))\n",
        "print('Start token F1 score: {0:.4f}'.format(\n",
        "    2 * (precision * recall) / (precision + recall)\n",
        "))\n",
        "\n",
        "accuracy = history.history['val_end_token_out_categorical_accuracy'][-1]\n",
        "recall = history.history['val_end_token_out_recall_1'][-1]\n",
        "precision = history.history['val_end_token_out_precision_1'][-1]\n",
        "\n",
        "print('End token accuracy: {0}'.format(accuracy))\n",
        "print('End token recall: {0}'.format(recall))\n",
        "print('End token precision: {0}'.format(precision))\n",
        "print('End token F1 score: {0:.4f}'.format(\n",
        "    2 * (precision * recall) / (precision + recall)\n",
        "))"
      ],
      "execution_count": null,
      "outputs": [
        {
          "output_type": "stream",
          "text": [
            "Validation\n",
            "Start token accuracy: 0.9344444274902344\n",
            "Start token recall: 0.9111111164093018\n",
            "Start token precision: 0.961313009262085\n",
            "Start token F1 score: 0.9355\n",
            "End token accuracy: 0.9222221970558167\n",
            "End token recall: 0.8888888955116272\n",
            "End token precision: 0.9523809552192688\n",
            "End token F1 score: 0.9195\n"
          ],
          "name": "stdout"
        }
      ]
    },
    {
      "cell_type": "markdown",
      "metadata": {
        "id": "YEbUxJ7gOxEn"
      },
      "source": [
        "#### Making Predictions to see how the model is performing"
      ]
    },
    {
      "cell_type": "code",
      "metadata": {
        "id": "Lr2lahXSi8xV"
      },
      "source": [
        "def test_answer(question, context):\n",
        "    sentences = [context, question]\n",
        "    \n",
        "    sentences = encode(sentences, tokenizer)\n",
        "    \n",
        "    predictions = model.predict(\n",
        "        [np.expand_dims(sentences[0], axis=0), np.expand_dims(sentences[1], axis=0)]\n",
        "    )\n",
        "    \n",
        "    predictions = np.array(predictions)\n",
        "    \n",
        "    pred_start = np.argmax(predictions[0,0])\n",
        "    pred_end = np.argmax(predictions[1,0])\n",
        "    pred_string = ' '.join(context.split(' ')[pred_start:pred_end])\n",
        "\n",
        "    return pred_start, pred_end, pred_string"
      ],
      "execution_count": null,
      "outputs": []
    },
    {
      "cell_type": "code",
      "metadata": {
        "id": "coiWS245jzSL"
      },
      "source": [
        "context = train_data.context[4]\n",
        "question = train_data.questions[4]"
      ],
      "execution_count": null,
      "outputs": []
    },
    {
      "cell_type": "code",
      "metadata": {
        "colab": {
          "base_uri": "https://localhost:8080/",
          "height": 35
        },
        "id": "8E9oQzXwfRql",
        "outputId": "e7f0e8c3-3780-441b-e454-83e7a1c005e8"
      },
      "source": [
        "question"
      ],
      "execution_count": null,
      "outputs": [
        {
          "output_type": "execute_result",
          "data": {
            "application/vnd.google.colaboratory.intrinsic+json": {
              "type": "string"
            },
            "text/plain": [
              "'combien de fois piazzi est-il parvenu à observer cérès ?'"
            ]
          },
          "metadata": {
            "tags": []
          },
          "execution_count": 41
        }
      ]
    },
    {
      "cell_type": "code",
      "metadata": {
        "colab": {
          "base_uri": "https://localhost:8080/"
        },
        "id": "f4opmjpMjeWG",
        "outputId": "791f96e7-6229-4adb-dbec-17a81f9cca41"
      },
      "source": [
        "start, end, answer = test_answer(question, context)\n",
        "\n",
        "print('Start token: ' + str(start))\n",
        "print('End token: ' + str(end))\n",
        "print('Answer: ' + answer)"
      ],
      "execution_count": null,
      "outputs": [
        {
          "output_type": "stream",
          "text": [
            "Start token: 3\n",
            "End token: 4\n",
            "Answer: 24\n"
          ],
          "name": "stdout"
        }
      ]
    },
    {
      "cell_type": "markdown",
      "metadata": {
        "id": "3PeGplvMPEwj"
      },
      "source": [
        "## Conclusion "
      ]
    },
    {
      "cell_type": "markdown",
      "metadata": {
        "id": "qeHKQ0pNlMK7"
      },
      "source": [
        "- It took us a lot of time trying to figure out how to tuckle the problem statement. Although, the beginning of the task was somewhat cumbersome we consulted some online resources like [kaggle](https://www.kaggle.com/), [hugging face](https://huggingface.co/), [tensorflow hub](http://tfhub.dev/) and many others to show us the way. \n",
        "- Although, BERT has proven to work well with the question answering tasks, due to the knowledge we seek to get from the project we conformed to going through the many mini steps, even from preprocessing of a json complex dataset into a more simpler one to feed into a neural network after several cleaning preprocesses. BERT, we considered to fall into the \"Black Box\" tasks and not much knowledge is retrieved as you learn through."
      ]
    },
    {
      "cell_type": "code",
      "metadata": {
        "id": "-QCdanEXSIgp"
      },
      "source": [
        ""
      ],
      "execution_count": null,
      "outputs": []
    }
  ]
}