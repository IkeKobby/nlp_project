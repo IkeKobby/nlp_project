{
  "nbformat": 4,
  "nbformat_minor": 0,
  "metadata": {
    "colab": {
      "name": "NLP_Question_Asnwering_Project.ipynb",
      "provenance": [],
      "collapsed_sections": [
        "aItmvuaEa3a7",
        "PzpRTOSTxjUz",
        "IKbmEnAdxt1I"
      ]
    },
    "kernelspec": {
      "name": "python3",
      "display_name": "Python 3"
    },
    "language_info": {
      "name": "python"
    },
    "accelerator": "GPU"
  },
  "cells": [
    {
      "cell_type": "markdown",
      "metadata": {
        "id": "scq08GRZYXLI"
      },
      "source": [
        "### Natural Language Processing Project \n",
        "\n",
        "### Task: Question Answering using the FQuAD, French Question Answering Dataset"
      ]
    },
    {
      "cell_type": "code",
      "metadata": {
        "id": "O6axEtU6NCSS"
      },
      "source": [
        "### to reduce the long installation outputs\n",
        "from IPython.display import clear_output\n",
        "\n",
        "\n",
        "## importing dependencies\n",
        "import json\n",
        "from pathlib import Path\n",
        "import zipfile\n",
        "\n",
        "import tensorflow as tf\n",
        "import pandas as pd\n",
        "import numpy as np\n",
        "\n",
        "import matplotlib.pyplot as plt\n",
        "\n",
        "## word embedding model\n",
        "import gensim\n",
        "\n",
        "## filtering out warnings\n",
        "import warnings\n",
        "warnings.filterwarnings('ignore')"
      ],
      "execution_count": 1,
      "outputs": []
    },
    {
      "cell_type": "markdown",
      "metadata": {
        "id": "8Rc3g0K9I-Ck"
      },
      "source": [
        "- Due to the cost of training we have used only 4,500 samples from the train dataset and 800 from the validation dataset. \n",
        "- The data used for the training is saved in [this github repository](https://github.com/IkeKobby/nlp_project/raw/main/used_data.zip). \n",
        " - The next cell below download the data into the directory `data` on colab for easy access. Kindly remove the hashtag if it is the first time you are using this notebook.\n"
      ]
    },
    {
      "cell_type": "code",
      "metadata": {
        "id": "xo9L77J5aGz1"
      },
      "source": [
        "!mkdir data\n",
        "!wget https://github.com/IkeKobby/nlp_project/raw/main/used_data.zip -O data/used_data.zip\n",
        "\n",
        "unzip =zipfile.ZipFile('data/used_data.zip')\n",
        "unzip.extractall('data/')\n",
        "unzip.close()\n",
        "\n",
        "clear_output()"
      ],
      "execution_count": 2,
      "outputs": []
    },
    {
      "cell_type": "markdown",
      "metadata": {
        "id": "T209RLmxJvq2"
      },
      "source": [
        "## Global variables\n",
        "- We used theswe global varibales to help with fine tuning of the model as and when deem necessary. "
      ]
    },
    {
      "cell_type": "code",
      "metadata": {
        "id": "d_j1Gi63Noe1"
      },
      "source": [
        "# TOKENIZATION\n",
        "FILTERS = '!\"#$%&()*+,-./:;<=>?@[\\\\]^_`{|}~\\t\\n'\n",
        "LOWER_CASE = True\n",
        "\n",
        "\n",
        "# answer model parameters\n",
        "EPOCHS = 30\n",
        "BATCH_SIZE = 32\n",
        "EMBED_SIZE = 200\n",
        "CLASS_WEIGHTS = {0: 0.5, 1: 5.}"
      ],
      "execution_count": 3,
      "outputs": []
    },
    {
      "cell_type": "code",
      "metadata": {
        "colab": {
          "base_uri": "https://localhost:8080/",
          "height": 359
        },
        "id": "C_w-0724LJ5u",
        "outputId": "e124ad9c-f347-4075-aef7-e330fd76c097"
      },
      "source": [
        "train_data.head(10)\n"
      ],
      "execution_count": 23,
      "outputs": [
        {
          "output_type": "execute_result",
          "data": {
            "text/html": [
              "<div>\n",
              "<style scoped>\n",
              "    .dataframe tbody tr th:only-of-type {\n",
              "        vertical-align: middle;\n",
              "    }\n",
              "\n",
              "    .dataframe tbody tr th {\n",
              "        vertical-align: top;\n",
              "    }\n",
              "\n",
              "    .dataframe thead th {\n",
              "        text-align: right;\n",
              "    }\n",
              "</style>\n",
              "<table border=\"1\" class=\"dataframe\">\n",
              "  <thead>\n",
              "    <tr style=\"text-align: right;\">\n",
              "      <th></th>\n",
              "      <th>context</th>\n",
              "      <th>questions</th>\n",
              "      <th>answers</th>\n",
              "      <th>answer_start</th>\n",
              "      <th>answer_end</th>\n",
              "    </tr>\n",
              "  </thead>\n",
              "  <tbody>\n",
              "    <tr>\n",
              "      <th>0</th>\n",
              "      <td>l'idée selon laquelle une planète inconnue pou...</td>\n",
              "      <td>quel astronome a émit l'idée en premier d'une ...</td>\n",
              "      <td>johann elert bode</td>\n",
              "      <td>23</td>\n",
              "      <td>26</td>\n",
              "    </tr>\n",
              "    <tr>\n",
              "      <th>1</th>\n",
              "      <td>l'idée selon laquelle une planète inconnue pou...</td>\n",
              "      <td>quel astronome découvrit uranus ?</td>\n",
              "      <td>william herschel</td>\n",
              "      <td>77</td>\n",
              "      <td>79</td>\n",
              "    </tr>\n",
              "    <tr>\n",
              "      <th>2</th>\n",
              "      <td>l'idée selon laquelle une planète inconnue pou...</td>\n",
              "      <td>quelles furent les découvertes finales des vin...</td>\n",
              "      <td>plusieurs autres astéroïdes</td>\n",
              "      <td>135</td>\n",
              "      <td>138</td>\n",
              "    </tr>\n",
              "    <tr>\n",
              "      <th>3</th>\n",
              "      <td>l'idée selon laquelle une planète inconnue pou...</td>\n",
              "      <td>quelles furent les découvertes finales des vin...</td>\n",
              "      <td>plusieurs autres astéroïdes</td>\n",
              "      <td>135</td>\n",
              "      <td>138</td>\n",
              "    </tr>\n",
              "    <tr>\n",
              "      <th>4</th>\n",
              "      <td>piazzi observa cérès 24 fois, la dernière fois...</td>\n",
              "      <td>combien de fois piazzi est-il parvenu à observ...</td>\n",
              "      <td>24</td>\n",
              "      <td>3</td>\n",
              "      <td>4</td>\n",
              "    </tr>\n",
              "    <tr>\n",
              "      <th>5</th>\n",
              "      <td>piazzi observa cérès 24 fois, la dernière fois...</td>\n",
              "      <td>où se trouvait barnaba oriani en 1801 ?</td>\n",
              "      <td>milan</td>\n",
              "      <td>35</td>\n",
              "      <td>36</td>\n",
              "    </tr>\n",
              "    <tr>\n",
              "      <th>6</th>\n",
              "      <td>piazzi observa cérès 24 fois, la dernière fois...</td>\n",
              "      <td>dans quel revue scientifique fut publiées ces ...</td>\n",
              "      <td>monatliche correspondenz</td>\n",
              "      <td>105</td>\n",
              "      <td>107</td>\n",
              "    </tr>\n",
              "    <tr>\n",
              "      <th>7</th>\n",
              "      <td>piazzi observa cérès 24 fois, la dernière fois...</td>\n",
              "      <td>pourquoi cérès n'était pas directement assimil...</td>\n",
              "      <td>son mouvement est lent et uniforme</td>\n",
              "      <td>49</td>\n",
              "      <td>55</td>\n",
              "    </tr>\n",
              "    <tr>\n",
              "      <th>8</th>\n",
              "      <td>peu après sa découverte, cérès s'approcha trop...</td>\n",
              "      <td>pour quelle raison on ne put plus observer cér...</td>\n",
              "      <td>cérès s'approcha trop près du soleil</td>\n",
              "      <td>5</td>\n",
              "      <td>12</td>\n",
              "    </tr>\n",
              "    <tr>\n",
              "      <th>9</th>\n",
              "      <td>peu après sa découverte, cérès s'approcha trop...</td>\n",
              "      <td>qui est parvenu à déterminer approximativement...</td>\n",
              "      <td>carl friedrich gauss</td>\n",
              "      <td>61</td>\n",
              "      <td>64</td>\n",
              "    </tr>\n",
              "  </tbody>\n",
              "</table>\n",
              "</div>"
            ],
            "text/plain": [
              "                                             context  ... answer_end\n",
              "0  l'idée selon laquelle une planète inconnue pou...  ...         26\n",
              "1  l'idée selon laquelle une planète inconnue pou...  ...         79\n",
              "2  l'idée selon laquelle une planète inconnue pou...  ...        138\n",
              "3  l'idée selon laquelle une planète inconnue pou...  ...        138\n",
              "4  piazzi observa cérès 24 fois, la dernière fois...  ...          4\n",
              "5  piazzi observa cérès 24 fois, la dernière fois...  ...         36\n",
              "6  piazzi observa cérès 24 fois, la dernière fois...  ...        107\n",
              "7  piazzi observa cérès 24 fois, la dernière fois...  ...         55\n",
              "8  peu après sa découverte, cérès s'approcha trop...  ...         12\n",
              "9  peu après sa découverte, cérès s'approcha trop...  ...         64\n",
              "\n",
              "[10 rows x 5 columns]"
            ]
          },
          "metadata": {
            "tags": []
          },
          "execution_count": 23
        }
      ]
    },
    {
      "cell_type": "markdown",
      "metadata": {
        "id": "-xHduLVXa_q7"
      },
      "source": [
        "### Processed data"
      ]
    },
    {
      "cell_type": "markdown",
      "metadata": {
        "id": "QVWQjyyDIl1K"
      },
      "source": [
        "## This data has been preprocessed from the original data to fit into the model.\n",
        "### A link to the helper functions for the various preprocessing we did shall be given access to in the github [link](https://raw.githubusercontent.com/IkeKobby/nlp_project/main/nlp_preoject_helper_functions.py). \n"
      ]
    },
    {
      "cell_type": "code",
      "metadata": {
        "colab": {
          "base_uri": "https://localhost:8080/"
        },
        "id": "ukJB9X6fbDrn",
        "outputId": "d98bf97b-31d2-4f22-a3ae-552e70c6bdb3"
      },
      "source": [
        "## Data Loading and exploration\n",
        "train_data = pd.read_csv('data/train_text.csv')\n",
        "val_data = pd.read_csv('data/val_text.csv')\n",
        "\n",
        "train_data.shape, val_data.shape"
      ],
      "execution_count": 4,
      "outputs": [
        {
          "output_type": "execute_result",
          "data": {
            "text/plain": [
              "((4500, 5), (800, 5))"
            ]
          },
          "metadata": {
            "tags": []
          },
          "execution_count": 4
        }
      ]
    },
    {
      "cell_type": "code",
      "metadata": {
        "colab": {
          "base_uri": "https://localhost:8080/",
          "height": 359
        },
        "id": "jZfvv-dcbgpn",
        "outputId": "3ab0419d-d8d2-4f26-8d45-f4275377b9e4"
      },
      "source": [
        "train_data.head(10)"
      ],
      "execution_count": 5,
      "outputs": [
        {
          "output_type": "execute_result",
          "data": {
            "text/html": [
              "<div>\n",
              "<style scoped>\n",
              "    .dataframe tbody tr th:only-of-type {\n",
              "        vertical-align: middle;\n",
              "    }\n",
              "\n",
              "    .dataframe tbody tr th {\n",
              "        vertical-align: top;\n",
              "    }\n",
              "\n",
              "    .dataframe thead th {\n",
              "        text-align: right;\n",
              "    }\n",
              "</style>\n",
              "<table border=\"1\" class=\"dataframe\">\n",
              "  <thead>\n",
              "    <tr style=\"text-align: right;\">\n",
              "      <th></th>\n",
              "      <th>context</th>\n",
              "      <th>questions</th>\n",
              "      <th>answers</th>\n",
              "      <th>answer_start</th>\n",
              "      <th>answer_end</th>\n",
              "    </tr>\n",
              "  </thead>\n",
              "  <tbody>\n",
              "    <tr>\n",
              "      <th>0</th>\n",
              "      <td>l'idée selon laquelle une planète inconnue pou...</td>\n",
              "      <td>quel astronome a émit l'idée en premier d'une ...</td>\n",
              "      <td>johann elert bode</td>\n",
              "      <td>23</td>\n",
              "      <td>26</td>\n",
              "    </tr>\n",
              "    <tr>\n",
              "      <th>1</th>\n",
              "      <td>l'idée selon laquelle une planète inconnue pou...</td>\n",
              "      <td>quel astronome découvrit uranus ?</td>\n",
              "      <td>william herschel</td>\n",
              "      <td>77</td>\n",
              "      <td>79</td>\n",
              "    </tr>\n",
              "    <tr>\n",
              "      <th>2</th>\n",
              "      <td>l'idée selon laquelle une planète inconnue pou...</td>\n",
              "      <td>quelles furent les découvertes finales des vin...</td>\n",
              "      <td>plusieurs autres astéroïdes</td>\n",
              "      <td>135</td>\n",
              "      <td>138</td>\n",
              "    </tr>\n",
              "    <tr>\n",
              "      <th>3</th>\n",
              "      <td>l'idée selon laquelle une planète inconnue pou...</td>\n",
              "      <td>quelles furent les découvertes finales des vin...</td>\n",
              "      <td>plusieurs autres astéroïdes</td>\n",
              "      <td>135</td>\n",
              "      <td>138</td>\n",
              "    </tr>\n",
              "    <tr>\n",
              "      <th>4</th>\n",
              "      <td>piazzi observa cérès 24 fois, la dernière fois...</td>\n",
              "      <td>combien de fois piazzi est-il parvenu à observ...</td>\n",
              "      <td>24</td>\n",
              "      <td>3</td>\n",
              "      <td>4</td>\n",
              "    </tr>\n",
              "    <tr>\n",
              "      <th>5</th>\n",
              "      <td>piazzi observa cérès 24 fois, la dernière fois...</td>\n",
              "      <td>où se trouvait barnaba oriani en 1801 ?</td>\n",
              "      <td>milan</td>\n",
              "      <td>35</td>\n",
              "      <td>36</td>\n",
              "    </tr>\n",
              "    <tr>\n",
              "      <th>6</th>\n",
              "      <td>piazzi observa cérès 24 fois, la dernière fois...</td>\n",
              "      <td>dans quel revue scientifique fut publiées ces ...</td>\n",
              "      <td>monatliche correspondenz</td>\n",
              "      <td>105</td>\n",
              "      <td>107</td>\n",
              "    </tr>\n",
              "    <tr>\n",
              "      <th>7</th>\n",
              "      <td>piazzi observa cérès 24 fois, la dernière fois...</td>\n",
              "      <td>pourquoi cérès n'était pas directement assimil...</td>\n",
              "      <td>son mouvement est lent et uniforme</td>\n",
              "      <td>49</td>\n",
              "      <td>55</td>\n",
              "    </tr>\n",
              "    <tr>\n",
              "      <th>8</th>\n",
              "      <td>peu après sa découverte, cérès s'approcha trop...</td>\n",
              "      <td>pour quelle raison on ne put plus observer cér...</td>\n",
              "      <td>cérès s'approcha trop près du soleil</td>\n",
              "      <td>5</td>\n",
              "      <td>12</td>\n",
              "    </tr>\n",
              "    <tr>\n",
              "      <th>9</th>\n",
              "      <td>peu après sa découverte, cérès s'approcha trop...</td>\n",
              "      <td>qui est parvenu à déterminer approximativement...</td>\n",
              "      <td>carl friedrich gauss</td>\n",
              "      <td>61</td>\n",
              "      <td>64</td>\n",
              "    </tr>\n",
              "  </tbody>\n",
              "</table>\n",
              "</div>"
            ],
            "text/plain": [
              "                                             context  ... answer_end\n",
              "0  l'idée selon laquelle une planète inconnue pou...  ...         26\n",
              "1  l'idée selon laquelle une planète inconnue pou...  ...         79\n",
              "2  l'idée selon laquelle une planète inconnue pou...  ...        138\n",
              "3  l'idée selon laquelle une planète inconnue pou...  ...        138\n",
              "4  piazzi observa cérès 24 fois, la dernière fois...  ...          4\n",
              "5  piazzi observa cérès 24 fois, la dernière fois...  ...         36\n",
              "6  piazzi observa cérès 24 fois, la dernière fois...  ...        107\n",
              "7  piazzi observa cérès 24 fois, la dernière fois...  ...         55\n",
              "8  peu après sa découverte, cérès s'approcha trop...  ...         12\n",
              "9  peu après sa découverte, cérès s'approcha trop...  ...         64\n",
              "\n",
              "[10 rows x 5 columns]"
            ]
          },
          "metadata": {
            "tags": []
          },
          "execution_count": 5
        }
      ]
    },
    {
      "cell_type": "code",
      "metadata": {
        "colab": {
          "base_uri": "https://localhost:8080/",
          "height": 359
        },
        "id": "qpZgDLTZ-Afz",
        "outputId": "0a3af333-092e-4527-cd5d-bfa4f7979f72"
      },
      "source": [
        "val_data.head(10)"
      ],
      "execution_count": 6,
      "outputs": [
        {
          "output_type": "execute_result",
          "data": {
            "text/html": [
              "<div>\n",
              "<style scoped>\n",
              "    .dataframe tbody tr th:only-of-type {\n",
              "        vertical-align: middle;\n",
              "    }\n",
              "\n",
              "    .dataframe tbody tr th {\n",
              "        vertical-align: top;\n",
              "    }\n",
              "\n",
              "    .dataframe thead th {\n",
              "        text-align: right;\n",
              "    }\n",
              "</style>\n",
              "<table border=\"1\" class=\"dataframe\">\n",
              "  <thead>\n",
              "    <tr style=\"text-align: right;\">\n",
              "      <th></th>\n",
              "      <th>context</th>\n",
              "      <th>questions</th>\n",
              "      <th>answers</th>\n",
              "      <th>answer_start</th>\n",
              "      <th>answer_end</th>\n",
              "    </tr>\n",
              "  </thead>\n",
              "  <tbody>\n",
              "    <tr>\n",
              "      <th>0</th>\n",
              "      <td>les deux tableaux sont certes décrits par des ...</td>\n",
              "      <td>que concerne principalement les documents ?</td>\n",
              "      <td>la vierge aux rochers</td>\n",
              "      <td>25</td>\n",
              "      <td>29</td>\n",
              "    </tr>\n",
              "    <tr>\n",
              "      <th>1</th>\n",
              "      <td>les deux tableaux sont certes décrits par des ...</td>\n",
              "      <td>par quoi sont décrit les deux tableaux ?</td>\n",
              "      <td>documents contemporains</td>\n",
              "      <td>8</td>\n",
              "      <td>10</td>\n",
              "    </tr>\n",
              "    <tr>\n",
              "      <th>2</th>\n",
              "      <td>les deux tableaux sont certes décrits par des ...</td>\n",
              "      <td>quels types d'objets sont les deux tableaux au...</td>\n",
              "      <td>objets de spéculations</td>\n",
              "      <td>33</td>\n",
              "      <td>36</td>\n",
              "    </tr>\n",
              "    <tr>\n",
              "      <th>3</th>\n",
              "      <td>les deux panneaux présentent de nombreuses sim...</td>\n",
              "      <td>sur quelle jambe les personnages se tiennent-t...</td>\n",
              "      <td>droite</td>\n",
              "      <td>43</td>\n",
              "      <td>44</td>\n",
              "    </tr>\n",
              "    <tr>\n",
              "      <th>4</th>\n",
              "      <td>les deux panneaux présentent de nombreuses sim...</td>\n",
              "      <td>quel pied avancent les personnages ?</td>\n",
              "      <td>gauche</td>\n",
              "      <td>48</td>\n",
              "      <td>49</td>\n",
              "    </tr>\n",
              "    <tr>\n",
              "      <th>5</th>\n",
              "      <td>les deux panneaux présentent de nombreuses sim...</td>\n",
              "      <td>de quelle couleur est l'ange qui joue de la li...</td>\n",
              "      <td>vert</td>\n",
              "      <td>140</td>\n",
              "      <td>141</td>\n",
              "    </tr>\n",
              "    <tr>\n",
              "      <th>6</th>\n",
              "      <td>les chercheurs s'accordent pour considérer que...</td>\n",
              "      <td>d'où sont issus les deux panneaux ?</td>\n",
              "      <td>atelier de léonard de vinci</td>\n",
              "      <td>14</td>\n",
              "      <td>19</td>\n",
              "    </tr>\n",
              "    <tr>\n",
              "      <th>7</th>\n",
              "      <td>les chercheurs s'accordent pour considérer que...</td>\n",
              "      <td>lors de quel processus des craquelures apparai...</td>\n",
              "      <td>séchage</td>\n",
              "      <td>100</td>\n",
              "      <td>101</td>\n",
              "    </tr>\n",
              "    <tr>\n",
              "      <th>8</th>\n",
              "      <td>les chercheurs s'accordent pour considérer que...</td>\n",
              "      <td>qu'est ce qui est utilisé pour la finition des...</td>\n",
              "      <td>doigts</td>\n",
              "      <td>64</td>\n",
              "      <td>65</td>\n",
              "    </tr>\n",
              "    <tr>\n",
              "      <th>9</th>\n",
              "      <td>les chercheurs s'accordent pour considérer que...</td>\n",
              "      <td>quel est le nom du panneau central du retable ?</td>\n",
              "      <td>la vierge aux rochers</td>\n",
              "      <td>33</td>\n",
              "      <td>37</td>\n",
              "    </tr>\n",
              "  </tbody>\n",
              "</table>\n",
              "</div>"
            ],
            "text/plain": [
              "                                             context  ... answer_end\n",
              "0  les deux tableaux sont certes décrits par des ...  ...         29\n",
              "1  les deux tableaux sont certes décrits par des ...  ...         10\n",
              "2  les deux tableaux sont certes décrits par des ...  ...         36\n",
              "3  les deux panneaux présentent de nombreuses sim...  ...         44\n",
              "4  les deux panneaux présentent de nombreuses sim...  ...         49\n",
              "5  les deux panneaux présentent de nombreuses sim...  ...        141\n",
              "6  les chercheurs s'accordent pour considérer que...  ...         19\n",
              "7  les chercheurs s'accordent pour considérer que...  ...        101\n",
              "8  les chercheurs s'accordent pour considérer que...  ...         65\n",
              "9  les chercheurs s'accordent pour considérer que...  ...         37\n",
              "\n",
              "[10 rows x 5 columns]"
            ]
          },
          "metadata": {
            "tags": []
          },
          "execution_count": 6
        }
      ]
    },
    {
      "cell_type": "code",
      "metadata": {
        "colab": {
          "base_uri": "https://localhost:8080/"
        },
        "id": "wN3ndsNI4pqc",
        "outputId": "1d2a968d-40c6-4e55-ab69-5b46b3ff01fe"
      },
      "source": [
        "## retrieving the maximum sentence length fromt the context of the text. \n",
        "def get_MAX_LEN(column):\n",
        "  tok = []\n",
        "  for sent in column:\n",
        "    tok.append(len(sent.split()))\n",
        "  get_max = max(np.array(tok))\n",
        "  return get_max \n",
        "\n",
        "MAX_LEN = get_MAX_LEN(train_data.context)\n",
        "MAX_LEN"
      ],
      "execution_count": 7,
      "outputs": [
        {
          "output_type": "execute_result",
          "data": {
            "text/plain": [
              "503"
            ]
          },
          "metadata": {
            "tags": []
          },
          "execution_count": 7
        }
      ]
    },
    {
      "cell_type": "code",
      "metadata": {
        "id": "lYggezZ1Zp91"
      },
      "source": [
        "### A functionalized tokenizer that performs tokenization on the text columns of the data.\n",
        "def define_tokenizer(df_series):\n",
        "    sentences = pd.concat(df_series)\n",
        "    \n",
        "    tokenizer = tf.keras.preprocessing.text.Tokenizer(\n",
        "        filters=FILTERS, \n",
        "        lower=LOWER_CASE\n",
        "    )\n",
        "    tokenizer.fit_on_texts(sentences)\n",
        "    \n",
        "    return tokenizer\n",
        "\n",
        "## An encoder function that takes into effects the tokenized method and paired sentences and encode them numerically  \n",
        "def encode(sentences, tokenizer):\n",
        "    encoded_sentences = tokenizer.texts_to_sequences(sentences)\n",
        "    \n",
        "    encoded_sentences = tf.keras.preprocessing.sequence.pad_sequences(\n",
        "        encoded_sentences, \n",
        "        padding='post',\n",
        "        maxlen=MAX_LEN\n",
        "    )\n",
        "    \n",
        "    return encoded_sentences"
      ],
      "execution_count": 8,
      "outputs": []
    },
    {
      "cell_type": "code",
      "metadata": {
        "id": "zW9VVH-nhN2l"
      },
      "source": [
        "## fitting the tokenizer with the required sentences\n",
        "tokenizer = define_tokenizer([\n",
        "    train_data.context, \n",
        "    train_data.questions,\n",
        "    val_data.context, \n",
        "    val_data.questions\n",
        "])"
      ],
      "execution_count": 9,
      "outputs": []
    },
    {
      "cell_type": "code",
      "metadata": {
        "id": "8bmvefvrhz-Y"
      },
      "source": [
        "### Getting the encodings for each sentences paired with respective questions. \n",
        "train_context = encode(train_data.context.values, tokenizer)\n",
        "train_questions = encode(train_data.questions.values, tokenizer)\n",
        "\n",
        "val_context = encode(val_data.context.values, tokenizer)\n",
        "val_questions = encode(val_data.questions.values, tokenizer)"
      ],
      "execution_count": 10,
      "outputs": []
    },
    {
      "cell_type": "code",
      "metadata": {
        "colab": {
          "base_uri": "https://localhost:8080/"
        },
        "id": "iw7tzcL7uD4S",
        "outputId": "720a780b-532c-4573-92f0-e9ba1c6382e4"
      },
      "source": [
        "## checking the encoding sizes\n",
        "train_context.shape, train_questions.shape, val_context.shape, val_questions.shape"
      ],
      "execution_count": 11,
      "outputs": [
        {
          "output_type": "execute_result",
          "data": {
            "text/plain": [
              "((4500, 503), (4500, 503), (800, 503), (800, 503))"
            ]
          },
          "metadata": {
            "tags": []
          },
          "execution_count": 11
        }
      ]
    },
    {
      "cell_type": "code",
      "metadata": {
        "id": "MTEnYfC7iY9t"
      },
      "source": [
        "### A function that returns one-hot encoded labels for the output variables, thus, the start_tokens, end_tokens, in a dimension of the maximum sentence length\n",
        "## With zeroes everywhere but for the position of the start and end tokens.\n",
        "\n",
        "def form_answer_labels(df, sentence_length):\n",
        "    start_labels = np.zeros((len(df), sentence_length))\n",
        "    end_labels = np.zeros((len(df), sentence_length))\n",
        "\n",
        "    for i in range(len(df)):\n",
        "        start = df.loc[i].answer_start\n",
        "        end = df.loc[i].answer_end\n",
        "\n",
        "        if start < sentence_length and end < sentence_length:\n",
        "            start_labels[i, start] = 1\n",
        "            end_labels[i, end] = 1\n",
        "        else:\n",
        "            continue\n",
        "    \n",
        "    return start_labels, end_labels\n",
        "\n",
        "### instantiating the function with the rewuired data.\n",
        "train_start_labels, train_end_labels = form_answer_labels(train_data, MAX_LEN)\n",
        "val_start_labels, val_end_labels = form_answer_labels(val_data, MAX_LEN)"
      ],
      "execution_count": 12,
      "outputs": []
    },
    {
      "cell_type": "code",
      "metadata": {
        "colab": {
          "base_uri": "https://localhost:8080/"
        },
        "id": "KeWndRwjjzy0",
        "outputId": "0fa3d461-de92-4661-94e8-3d52498443b6"
      },
      "source": [
        "### Printing out the representing of the start and end tokens.\n",
        "print(train_data.loc[0].context)\n",
        "print('Start index: {0}'.format(train_start_labels[0]))\n",
        "print('End index: {0}'.format(train_end_labels[0]))"
      ],
      "execution_count": 13,
      "outputs": [
        {
          "output_type": "stream",
          "text": [
            "l'idée selon laquelle une planète inconnue pourrait exister entre les orbites de mars et jupiter fut proposée pour la première fois par johann elert bode en 1768. ses suggestions étaient basées sur la loi de titius-bode, une théorie désormais obsolète proposée par johann daniel titius en 1766,. selon cette loi, le demi-grand axe de cette planète aurait été d'environ 2,8 ua. la découverte d'uranus par william herschel en 1781 accrut la confiance dans la loi de titius-bode et, en 1800, vingt-quatre astronomes expérimentés combinèrent leurs efforts et entreprirent une recherche méthodique de la planète proposée,. le groupe était dirigé par franz xaver von zach. bien qu'ils n'aient pas découvert cérès, ils trouvèrent néanmoins plusieurs autres astéroïdes.\n",
            "Start index: [0. 0. 0. 0. 0. 0. 0. 0. 0. 0. 0. 0. 0. 0. 0. 0. 0. 0. 0. 0. 0. 0. 0. 1.\n",
            " 0. 0. 0. 0. 0. 0. 0. 0. 0. 0. 0. 0. 0. 0. 0. 0. 0. 0. 0. 0. 0. 0. 0. 0.\n",
            " 0. 0. 0. 0. 0. 0. 0. 0. 0. 0. 0. 0. 0. 0. 0. 0. 0. 0. 0. 0. 0. 0. 0. 0.\n",
            " 0. 0. 0. 0. 0. 0. 0. 0. 0. 0. 0. 0. 0. 0. 0. 0. 0. 0. 0. 0. 0. 0. 0. 0.\n",
            " 0. 0. 0. 0. 0. 0. 0. 0. 0. 0. 0. 0. 0. 0. 0. 0. 0. 0. 0. 0. 0. 0. 0. 0.\n",
            " 0. 0. 0. 0. 0. 0. 0. 0. 0. 0. 0. 0. 0. 0. 0. 0. 0. 0. 0. 0. 0. 0. 0. 0.\n",
            " 0. 0. 0. 0. 0. 0. 0. 0. 0. 0. 0. 0. 0. 0. 0. 0. 0. 0. 0. 0. 0. 0. 0. 0.\n",
            " 0. 0. 0. 0. 0. 0. 0. 0. 0. 0. 0. 0. 0. 0. 0. 0. 0. 0. 0. 0. 0. 0. 0. 0.\n",
            " 0. 0. 0. 0. 0. 0. 0. 0. 0. 0. 0. 0. 0. 0. 0. 0. 0. 0. 0. 0. 0. 0. 0. 0.\n",
            " 0. 0. 0. 0. 0. 0. 0. 0. 0. 0. 0. 0. 0. 0. 0. 0. 0. 0. 0. 0. 0. 0. 0. 0.\n",
            " 0. 0. 0. 0. 0. 0. 0. 0. 0. 0. 0. 0. 0. 0. 0. 0. 0. 0. 0. 0. 0. 0. 0. 0.\n",
            " 0. 0. 0. 0. 0. 0. 0. 0. 0. 0. 0. 0. 0. 0. 0. 0. 0. 0. 0. 0. 0. 0. 0. 0.\n",
            " 0. 0. 0. 0. 0. 0. 0. 0. 0. 0. 0. 0. 0. 0. 0. 0. 0. 0. 0. 0. 0. 0. 0. 0.\n",
            " 0. 0. 0. 0. 0. 0. 0. 0. 0. 0. 0. 0. 0. 0. 0. 0. 0. 0. 0. 0. 0. 0. 0. 0.\n",
            " 0. 0. 0. 0. 0. 0. 0. 0. 0. 0. 0. 0. 0. 0. 0. 0. 0. 0. 0. 0. 0. 0. 0. 0.\n",
            " 0. 0. 0. 0. 0. 0. 0. 0. 0. 0. 0. 0. 0. 0. 0. 0. 0. 0. 0. 0. 0. 0. 0. 0.\n",
            " 0. 0. 0. 0. 0. 0. 0. 0. 0. 0. 0. 0. 0. 0. 0. 0. 0. 0. 0. 0. 0. 0. 0. 0.\n",
            " 0. 0. 0. 0. 0. 0. 0. 0. 0. 0. 0. 0. 0. 0. 0. 0. 0. 0. 0. 0. 0. 0. 0. 0.\n",
            " 0. 0. 0. 0. 0. 0. 0. 0. 0. 0. 0. 0. 0. 0. 0. 0. 0. 0. 0. 0. 0. 0. 0. 0.\n",
            " 0. 0. 0. 0. 0. 0. 0. 0. 0. 0. 0. 0. 0. 0. 0. 0. 0. 0. 0. 0. 0. 0. 0. 0.\n",
            " 0. 0. 0. 0. 0. 0. 0. 0. 0. 0. 0. 0. 0. 0. 0. 0. 0. 0. 0. 0. 0. 0. 0.]\n",
            "End index: [0. 0. 0. 0. 0. 0. 0. 0. 0. 0. 0. 0. 0. 0. 0. 0. 0. 0. 0. 0. 0. 0. 0. 0.\n",
            " 0. 0. 1. 0. 0. 0. 0. 0. 0. 0. 0. 0. 0. 0. 0. 0. 0. 0. 0. 0. 0. 0. 0. 0.\n",
            " 0. 0. 0. 0. 0. 0. 0. 0. 0. 0. 0. 0. 0. 0. 0. 0. 0. 0. 0. 0. 0. 0. 0. 0.\n",
            " 0. 0. 0. 0. 0. 0. 0. 0. 0. 0. 0. 0. 0. 0. 0. 0. 0. 0. 0. 0. 0. 0. 0. 0.\n",
            " 0. 0. 0. 0. 0. 0. 0. 0. 0. 0. 0. 0. 0. 0. 0. 0. 0. 0. 0. 0. 0. 0. 0. 0.\n",
            " 0. 0. 0. 0. 0. 0. 0. 0. 0. 0. 0. 0. 0. 0. 0. 0. 0. 0. 0. 0. 0. 0. 0. 0.\n",
            " 0. 0. 0. 0. 0. 0. 0. 0. 0. 0. 0. 0. 0. 0. 0. 0. 0. 0. 0. 0. 0. 0. 0. 0.\n",
            " 0. 0. 0. 0. 0. 0. 0. 0. 0. 0. 0. 0. 0. 0. 0. 0. 0. 0. 0. 0. 0. 0. 0. 0.\n",
            " 0. 0. 0. 0. 0. 0. 0. 0. 0. 0. 0. 0. 0. 0. 0. 0. 0. 0. 0. 0. 0. 0. 0. 0.\n",
            " 0. 0. 0. 0. 0. 0. 0. 0. 0. 0. 0. 0. 0. 0. 0. 0. 0. 0. 0. 0. 0. 0. 0. 0.\n",
            " 0. 0. 0. 0. 0. 0. 0. 0. 0. 0. 0. 0. 0. 0. 0. 0. 0. 0. 0. 0. 0. 0. 0. 0.\n",
            " 0. 0. 0. 0. 0. 0. 0. 0. 0. 0. 0. 0. 0. 0. 0. 0. 0. 0. 0. 0. 0. 0. 0. 0.\n",
            " 0. 0. 0. 0. 0. 0. 0. 0. 0. 0. 0. 0. 0. 0. 0. 0. 0. 0. 0. 0. 0. 0. 0. 0.\n",
            " 0. 0. 0. 0. 0. 0. 0. 0. 0. 0. 0. 0. 0. 0. 0. 0. 0. 0. 0. 0. 0. 0. 0. 0.\n",
            " 0. 0. 0. 0. 0. 0. 0. 0. 0. 0. 0. 0. 0. 0. 0. 0. 0. 0. 0. 0. 0. 0. 0. 0.\n",
            " 0. 0. 0. 0. 0. 0. 0. 0. 0. 0. 0. 0. 0. 0. 0. 0. 0. 0. 0. 0. 0. 0. 0. 0.\n",
            " 0. 0. 0. 0. 0. 0. 0. 0. 0. 0. 0. 0. 0. 0. 0. 0. 0. 0. 0. 0. 0. 0. 0. 0.\n",
            " 0. 0. 0. 0. 0. 0. 0. 0. 0. 0. 0. 0. 0. 0. 0. 0. 0. 0. 0. 0. 0. 0. 0. 0.\n",
            " 0. 0. 0. 0. 0. 0. 0. 0. 0. 0. 0. 0. 0. 0. 0. 0. 0. 0. 0. 0. 0. 0. 0. 0.\n",
            " 0. 0. 0. 0. 0. 0. 0. 0. 0. 0. 0. 0. 0. 0. 0. 0. 0. 0. 0. 0. 0. 0. 0. 0.\n",
            " 0. 0. 0. 0. 0. 0. 0. 0. 0. 0. 0. 0. 0. 0. 0. 0. 0. 0. 0. 0. 0. 0. 0.]\n"
          ],
          "name": "stdout"
        }
      ]
    },
    {
      "cell_type": "markdown",
      "metadata": {
        "id": "HaPoQi4se0Cy"
      },
      "source": [
        "#### Model training "
      ]
    },
    {
      "cell_type": "code",
      "metadata": {
        "id": "VzxETzrXskWr"
      },
      "source": [
        "### We used LSTM for the training of the questions and answers.\n",
        "from tensorflow.keras.layers import LSTM, Bidirectional, GlobalMaxPooling1D, SpatialDropout1D, Dense, Dropout, Input, concatenate, Conv1D, Activation, Flatten"
      ],
      "execution_count": 14,
      "outputs": []
    },
    {
      "cell_type": "markdown",
      "metadata": {
        "id": "lHg3KfdEMaVM"
      },
      "source": [
        "> We also trained an embedding on french texts to help with our french question answering task. A link to the text we trained the embedding on shall be provided [here](https://raw.githubusercontent.com/Ismailhachimi/French-Word-Embeddings/master/Data/data.txt). \n",
        "\n",
        "> The embedding shall also be added to the github repository for projects with French tasks. However, in the meantime here is a [google drive link](https://drive.google.com/drive/folders/1fJPM3efcUR5wbS7ml2A12_4_wp8QUQRu?usp=sharing) to the file on request for verification. \n"
      ]
    },
    {
      "cell_type": "code",
      "metadata": {
        "id": "A4RJ_Ib_bnLg"
      },
      "source": [
        "## Using a trained model on french text\n",
        "model_w2v = gensim.models.Word2Vec.load('/content/drive/MyDrive/KOBBY/ML and AI data/NLP/model_fr_w2v/w2v_cbow_200D')\n",
        "\n",
        "### Create embedding dictionary for each french word from our dataset\n",
        "embedding_dic = {}\n",
        "\n",
        "for word in model_w2v.wv.vocab:\n",
        "  embedding_dic[word] = model_w2v.wv.__getitem__(word)\n",
        "\n",
        "\n",
        "num_words = len(tokenizer.word_index) + 1\n",
        "embedding_matrix = np.zeros((num_words, EMBED_SIZE))\n",
        "\n",
        "for word, i in tokenizer.word_index.items():\n",
        "    if i > num_words:\n",
        "        continue\n",
        "    \n",
        "    emb_vec = embedding_dic.get(word)\n",
        "    \n",
        "    if emb_vec is not None:\n",
        "        embedding_matrix[i] = emb_vec"
      ],
      "execution_count": 15,
      "outputs": []
    },
    {
      "cell_type": "code",
      "metadata": {
        "id": "KIzsu_dxdMWj"
      },
      "source": [
        "## We built the model with the embedding layer on top top of the LSTM\n",
        "\n",
        "### embedding layer \n",
        "embedding = tf.keras.layers.Embedding(\n",
        "    len(tokenizer.word_index) + 1,\n",
        "    EMBED_SIZE,\n",
        "    embeddings_initializer = tf.keras.initializers.Constant(embedding_matrix),\n",
        "    trainable = False\n",
        ")\n",
        "\n",
        "# encode question\n",
        "question_input = Input(shape=(None,))\n",
        "question_x = embedding(question_input)\n",
        "question_x = SpatialDropout1D(0.2)(question_x)\n",
        "question_x = Bidirectional(LSTM(300, return_sequences=True))(question_x)\n",
        "question_x = Bidirectional(LSTM(200, return_sequences=True))(question_x)\n",
        "question_x = Bidirectional(LSTM(100, return_sequences=True))(question_x)\n",
        "\n",
        "# encode answer\n",
        "answer_input = Input(shape=(None,))\n",
        "answer_x = embedding(answer_input)\n",
        "answer_x = SpatialDropout1D(0.2)(answer_x)\n",
        "answer_x = Bidirectional(LSTM(250, return_sequences=True))(answer_x)\n",
        "answer_x = Bidirectional(LSTM(150, return_sequences=True))(answer_x)\n",
        "answer_x = Bidirectional(LSTM(100, return_sequences=True))(answer_x)\n",
        "\n",
        "\n",
        "# merge the encodings\n",
        "combined_x = concatenate([question_x, answer_x])\n",
        "\n",
        "# predict start index\n",
        "start_x = Dropout(0.1)(combined_x) \n",
        "start_x = Conv1D(1,1)(start_x)\n",
        "start_x = Flatten()(start_x)\n",
        "start_x = Activation('softmax', name='start_token_out')(start_x)\n",
        "\n",
        "# predict end index\n",
        "end_x = Dropout(0.1)(combined_x) \n",
        "end_x = Conv1D(1,1)(end_x)\n",
        "end_x = Flatten()(end_x)\n",
        "end_x = Activation('softmax', name='end_token_out')(end_x)\n",
        "\n",
        "# merge the parts into one model\n",
        "model = tf.keras.models.Model(inputs=[answer_input, question_input], outputs=[start_x, end_x])"
      ],
      "execution_count": 16,
      "outputs": []
    },
    {
      "cell_type": "code",
      "metadata": {
        "id": "OFDhb5KctG8h"
      },
      "source": [
        "## compiling the model with three metrics\n",
        "model.compile(\n",
        "    loss='categorical_crossentropy', \n",
        "    optimizer='adam',\n",
        "    metrics=['categorical_accuracy', 'Recall', 'Precision']\n",
        ")\n",
        "\n",
        "## defining a call back to check with the model training and performance over time.\n",
        "callbacks = [\n",
        "    tf.keras.callbacks.ReduceLROnPlateau(monitor='loss', patience=3, verbose=1),\n",
        "    tf.keras.callbacks.EarlyStopping(monitor='loss', patience=5, verbose=1),\n",
        "]"
      ],
      "execution_count": 17,
      "outputs": []
    },
    {
      "cell_type": "code",
      "metadata": {
        "colab": {
          "base_uri": "https://localhost:8080/",
          "height": 411
        },
        "id": "0REZ8YXPtfPj",
        "outputId": "f2b87c2d-7a01-4ed9-a730-1ab7414847b5"
      },
      "source": [
        "### We fit the model and save the history for visualization and monitoring of the model performance\n",
        "history = model.fit(\n",
        "    x = [train_context, train_questions], \n",
        "    y = [train_start_labels, train_end_labels],\n",
        "    validation_data = (\n",
        "        [val_context, val_questions], \n",
        "        [val_start_labels, val_end_labels]\n",
        "    ),\n",
        "    epochs = EPOCHS,\n",
        "    callbacks = callbacks,\n",
        "    batch_size = BATCH_SIZE,\n",
        "    shuffle = True\n",
        ")"
      ],
      "execution_count": 18,
      "outputs": [
        {
          "output_type": "stream",
          "text": [
            "Epoch 1/30\n",
            " 29/141 [=====>........................] - ETA: 38:57 - loss: 9.8695 - start_token_out_loss: 4.9217 - end_token_out_loss: 4.9478 - start_token_out_categorical_accuracy: 0.0162 - start_token_out_recall: 0.0000e+00 - start_token_out_precision: 0.0000e+00 - end_token_out_categorical_accuracy: 0.0129 - end_token_out_recall_1: 0.0000e+00 - end_token_out_precision_1: 0.0000e+00"
          ],
          "name": "stdout"
        },
        {
          "output_type": "error",
          "ename": "KeyboardInterrupt",
          "evalue": "ignored",
          "traceback": [
            "\u001b[0;31m---------------------------------------------------------------------------\u001b[0m",
            "\u001b[0;31mKeyboardInterrupt\u001b[0m                         Traceback (most recent call last)",
            "\u001b[0;32m<ipython-input-18-559cdc5c9fd2>\u001b[0m in \u001b[0;36m<module>\u001b[0;34m()\u001b[0m\n\u001b[1;32m      9\u001b[0m     \u001b[0mcallbacks\u001b[0m \u001b[0;34m=\u001b[0m \u001b[0mcallbacks\u001b[0m\u001b[0;34m,\u001b[0m\u001b[0;34m\u001b[0m\u001b[0;34m\u001b[0m\u001b[0m\n\u001b[1;32m     10\u001b[0m     \u001b[0mbatch_size\u001b[0m \u001b[0;34m=\u001b[0m \u001b[0mBATCH_SIZE\u001b[0m\u001b[0;34m,\u001b[0m\u001b[0;34m\u001b[0m\u001b[0;34m\u001b[0m\u001b[0m\n\u001b[0;32m---> 11\u001b[0;31m     \u001b[0mshuffle\u001b[0m \u001b[0;34m=\u001b[0m \u001b[0;32mTrue\u001b[0m\u001b[0;34m\u001b[0m\u001b[0;34m\u001b[0m\u001b[0m\n\u001b[0m\u001b[1;32m     12\u001b[0m )\n",
            "\u001b[0;32m/usr/local/lib/python3.7/dist-packages/tensorflow/python/keras/engine/training.py\u001b[0m in \u001b[0;36mfit\u001b[0;34m(self, x, y, batch_size, epochs, verbose, callbacks, validation_split, validation_data, shuffle, class_weight, sample_weight, initial_epoch, steps_per_epoch, validation_steps, validation_batch_size, validation_freq, max_queue_size, workers, use_multiprocessing)\u001b[0m\n\u001b[1;32m   1181\u001b[0m                 _r=1):\n\u001b[1;32m   1182\u001b[0m               \u001b[0mcallbacks\u001b[0m\u001b[0;34m.\u001b[0m\u001b[0mon_train_batch_begin\u001b[0m\u001b[0;34m(\u001b[0m\u001b[0mstep\u001b[0m\u001b[0;34m)\u001b[0m\u001b[0;34m\u001b[0m\u001b[0;34m\u001b[0m\u001b[0m\n\u001b[0;32m-> 1183\u001b[0;31m               \u001b[0mtmp_logs\u001b[0m \u001b[0;34m=\u001b[0m \u001b[0mself\u001b[0m\u001b[0;34m.\u001b[0m\u001b[0mtrain_function\u001b[0m\u001b[0;34m(\u001b[0m\u001b[0miterator\u001b[0m\u001b[0;34m)\u001b[0m\u001b[0;34m\u001b[0m\u001b[0;34m\u001b[0m\u001b[0m\n\u001b[0m\u001b[1;32m   1184\u001b[0m               \u001b[0;32mif\u001b[0m \u001b[0mdata_handler\u001b[0m\u001b[0;34m.\u001b[0m\u001b[0mshould_sync\u001b[0m\u001b[0;34m:\u001b[0m\u001b[0;34m\u001b[0m\u001b[0;34m\u001b[0m\u001b[0m\n\u001b[1;32m   1185\u001b[0m                 \u001b[0mcontext\u001b[0m\u001b[0;34m.\u001b[0m\u001b[0masync_wait\u001b[0m\u001b[0;34m(\u001b[0m\u001b[0;34m)\u001b[0m\u001b[0;34m\u001b[0m\u001b[0;34m\u001b[0m\u001b[0m\n",
            "\u001b[0;32m/usr/local/lib/python3.7/dist-packages/tensorflow/python/eager/def_function.py\u001b[0m in \u001b[0;36m__call__\u001b[0;34m(self, *args, **kwds)\u001b[0m\n\u001b[1;32m    887\u001b[0m \u001b[0;34m\u001b[0m\u001b[0m\n\u001b[1;32m    888\u001b[0m       \u001b[0;32mwith\u001b[0m \u001b[0mOptionalXlaContext\u001b[0m\u001b[0;34m(\u001b[0m\u001b[0mself\u001b[0m\u001b[0;34m.\u001b[0m\u001b[0m_jit_compile\u001b[0m\u001b[0;34m)\u001b[0m\u001b[0;34m:\u001b[0m\u001b[0;34m\u001b[0m\u001b[0;34m\u001b[0m\u001b[0m\n\u001b[0;32m--> 889\u001b[0;31m         \u001b[0mresult\u001b[0m \u001b[0;34m=\u001b[0m \u001b[0mself\u001b[0m\u001b[0;34m.\u001b[0m\u001b[0m_call\u001b[0m\u001b[0;34m(\u001b[0m\u001b[0;34m*\u001b[0m\u001b[0margs\u001b[0m\u001b[0;34m,\u001b[0m \u001b[0;34m**\u001b[0m\u001b[0mkwds\u001b[0m\u001b[0;34m)\u001b[0m\u001b[0;34m\u001b[0m\u001b[0;34m\u001b[0m\u001b[0m\n\u001b[0m\u001b[1;32m    890\u001b[0m \u001b[0;34m\u001b[0m\u001b[0m\n\u001b[1;32m    891\u001b[0m       \u001b[0mnew_tracing_count\u001b[0m \u001b[0;34m=\u001b[0m \u001b[0mself\u001b[0m\u001b[0;34m.\u001b[0m\u001b[0mexperimental_get_tracing_count\u001b[0m\u001b[0;34m(\u001b[0m\u001b[0;34m)\u001b[0m\u001b[0;34m\u001b[0m\u001b[0;34m\u001b[0m\u001b[0m\n",
            "\u001b[0;32m/usr/local/lib/python3.7/dist-packages/tensorflow/python/eager/def_function.py\u001b[0m in \u001b[0;36m_call\u001b[0;34m(self, *args, **kwds)\u001b[0m\n\u001b[1;32m    915\u001b[0m       \u001b[0;31m# In this case we have created variables on the first call, so we run the\u001b[0m\u001b[0;34m\u001b[0m\u001b[0;34m\u001b[0m\u001b[0;34m\u001b[0m\u001b[0m\n\u001b[1;32m    916\u001b[0m       \u001b[0;31m# defunned version which is guaranteed to never create variables.\u001b[0m\u001b[0;34m\u001b[0m\u001b[0;34m\u001b[0m\u001b[0;34m\u001b[0m\u001b[0m\n\u001b[0;32m--> 917\u001b[0;31m       \u001b[0;32mreturn\u001b[0m \u001b[0mself\u001b[0m\u001b[0;34m.\u001b[0m\u001b[0m_stateless_fn\u001b[0m\u001b[0;34m(\u001b[0m\u001b[0;34m*\u001b[0m\u001b[0margs\u001b[0m\u001b[0;34m,\u001b[0m \u001b[0;34m**\u001b[0m\u001b[0mkwds\u001b[0m\u001b[0;34m)\u001b[0m  \u001b[0;31m# pylint: disable=not-callable\u001b[0m\u001b[0;34m\u001b[0m\u001b[0;34m\u001b[0m\u001b[0m\n\u001b[0m\u001b[1;32m    918\u001b[0m     \u001b[0;32melif\u001b[0m \u001b[0mself\u001b[0m\u001b[0;34m.\u001b[0m\u001b[0m_stateful_fn\u001b[0m \u001b[0;32mis\u001b[0m \u001b[0;32mnot\u001b[0m \u001b[0;32mNone\u001b[0m\u001b[0;34m:\u001b[0m\u001b[0;34m\u001b[0m\u001b[0;34m\u001b[0m\u001b[0m\n\u001b[1;32m    919\u001b[0m       \u001b[0;31m# Release the lock early so that multiple threads can perform the call\u001b[0m\u001b[0;34m\u001b[0m\u001b[0;34m\u001b[0m\u001b[0;34m\u001b[0m\u001b[0m\n",
            "\u001b[0;32m/usr/local/lib/python3.7/dist-packages/tensorflow/python/eager/function.py\u001b[0m in \u001b[0;36m__call__\u001b[0;34m(self, *args, **kwargs)\u001b[0m\n\u001b[1;32m   3022\u001b[0m        filtered_flat_args) = self._maybe_define_function(args, kwargs)\n\u001b[1;32m   3023\u001b[0m     return graph_function._call_flat(\n\u001b[0;32m-> 3024\u001b[0;31m         filtered_flat_args, captured_inputs=graph_function.captured_inputs)  # pylint: disable=protected-access\n\u001b[0m\u001b[1;32m   3025\u001b[0m \u001b[0;34m\u001b[0m\u001b[0m\n\u001b[1;32m   3026\u001b[0m   \u001b[0;34m@\u001b[0m\u001b[0mproperty\u001b[0m\u001b[0;34m\u001b[0m\u001b[0;34m\u001b[0m\u001b[0m\n",
            "\u001b[0;32m/usr/local/lib/python3.7/dist-packages/tensorflow/python/eager/function.py\u001b[0m in \u001b[0;36m_call_flat\u001b[0;34m(self, args, captured_inputs, cancellation_manager)\u001b[0m\n\u001b[1;32m   1959\u001b[0m       \u001b[0;31m# No tape is watching; skip to running the function.\u001b[0m\u001b[0;34m\u001b[0m\u001b[0;34m\u001b[0m\u001b[0;34m\u001b[0m\u001b[0m\n\u001b[1;32m   1960\u001b[0m       return self._build_call_outputs(self._inference_function.call(\n\u001b[0;32m-> 1961\u001b[0;31m           ctx, args, cancellation_manager=cancellation_manager))\n\u001b[0m\u001b[1;32m   1962\u001b[0m     forward_backward = self._select_forward_and_backward_functions(\n\u001b[1;32m   1963\u001b[0m         \u001b[0margs\u001b[0m\u001b[0;34m,\u001b[0m\u001b[0;34m\u001b[0m\u001b[0;34m\u001b[0m\u001b[0m\n",
            "\u001b[0;32m/usr/local/lib/python3.7/dist-packages/tensorflow/python/eager/function.py\u001b[0m in \u001b[0;36mcall\u001b[0;34m(self, ctx, args, cancellation_manager)\u001b[0m\n\u001b[1;32m    594\u001b[0m               \u001b[0minputs\u001b[0m\u001b[0;34m=\u001b[0m\u001b[0margs\u001b[0m\u001b[0;34m,\u001b[0m\u001b[0;34m\u001b[0m\u001b[0;34m\u001b[0m\u001b[0m\n\u001b[1;32m    595\u001b[0m               \u001b[0mattrs\u001b[0m\u001b[0;34m=\u001b[0m\u001b[0mattrs\u001b[0m\u001b[0;34m,\u001b[0m\u001b[0;34m\u001b[0m\u001b[0;34m\u001b[0m\u001b[0m\n\u001b[0;32m--> 596\u001b[0;31m               ctx=ctx)\n\u001b[0m\u001b[1;32m    597\u001b[0m         \u001b[0;32melse\u001b[0m\u001b[0;34m:\u001b[0m\u001b[0;34m\u001b[0m\u001b[0;34m\u001b[0m\u001b[0m\n\u001b[1;32m    598\u001b[0m           outputs = execute.execute_with_cancellation(\n",
            "\u001b[0;32m/usr/local/lib/python3.7/dist-packages/tensorflow/python/eager/execute.py\u001b[0m in \u001b[0;36mquick_execute\u001b[0;34m(op_name, num_outputs, inputs, attrs, ctx, name)\u001b[0m\n\u001b[1;32m     58\u001b[0m     \u001b[0mctx\u001b[0m\u001b[0;34m.\u001b[0m\u001b[0mensure_initialized\u001b[0m\u001b[0;34m(\u001b[0m\u001b[0;34m)\u001b[0m\u001b[0;34m\u001b[0m\u001b[0;34m\u001b[0m\u001b[0m\n\u001b[1;32m     59\u001b[0m     tensors = pywrap_tfe.TFE_Py_Execute(ctx._handle, device_name, op_name,\n\u001b[0;32m---> 60\u001b[0;31m                                         inputs, attrs, num_outputs)\n\u001b[0m\u001b[1;32m     61\u001b[0m   \u001b[0;32mexcept\u001b[0m \u001b[0mcore\u001b[0m\u001b[0;34m.\u001b[0m\u001b[0m_NotOkStatusException\u001b[0m \u001b[0;32mas\u001b[0m \u001b[0me\u001b[0m\u001b[0;34m:\u001b[0m\u001b[0;34m\u001b[0m\u001b[0;34m\u001b[0m\u001b[0m\n\u001b[1;32m     62\u001b[0m     \u001b[0;32mif\u001b[0m \u001b[0mname\u001b[0m \u001b[0;32mis\u001b[0m \u001b[0;32mnot\u001b[0m \u001b[0;32mNone\u001b[0m\u001b[0;34m:\u001b[0m\u001b[0;34m\u001b[0m\u001b[0;34m\u001b[0m\u001b[0m\n",
            "\u001b[0;31mKeyboardInterrupt\u001b[0m: "
          ]
        }
      ]
    },
    {
      "cell_type": "code",
      "metadata": {
        "id": "pMweaniwvrP0",
        "colab": {
          "base_uri": "https://localhost:8080/",
          "height": 180
        },
        "outputId": "a13e4810-290a-46ea-be7f-78c48e073e99"
      },
      "source": [
        "## We check for number of epochs and the best loss achieved.\n",
        "print('Epoch: {0}'.format(len(history.history['loss'])))\n",
        "print('Loss: {0}'.format(history.history['loss'][-1]))"
      ],
      "execution_count": 1,
      "outputs": [
        {
          "output_type": "error",
          "ename": "NameError",
          "evalue": "ignored",
          "traceback": [
            "\u001b[0;31m---------------------------------------------------------------------------\u001b[0m",
            "\u001b[0;31mNameError\u001b[0m                                 Traceback (most recent call last)",
            "\u001b[0;32m<ipython-input-1-a5bddc877cd9>\u001b[0m in \u001b[0;36m<module>\u001b[0;34m()\u001b[0m\n\u001b[0;32m----> 1\u001b[0;31m \u001b[0mprint\u001b[0m\u001b[0;34m(\u001b[0m\u001b[0;34m'Epoch: {0}'\u001b[0m\u001b[0;34m.\u001b[0m\u001b[0mformat\u001b[0m\u001b[0;34m(\u001b[0m\u001b[0mlen\u001b[0m\u001b[0;34m(\u001b[0m\u001b[0mhistory\u001b[0m\u001b[0;34m.\u001b[0m\u001b[0mhistory\u001b[0m\u001b[0;34m[\u001b[0m\u001b[0;34m'loss'\u001b[0m\u001b[0;34m]\u001b[0m\u001b[0;34m)\u001b[0m\u001b[0;34m)\u001b[0m\u001b[0;34m)\u001b[0m\u001b[0;34m\u001b[0m\u001b[0;34m\u001b[0m\u001b[0m\n\u001b[0m\u001b[1;32m      2\u001b[0m \u001b[0mprint\u001b[0m\u001b[0;34m(\u001b[0m\u001b[0;34m'Loss: {0}'\u001b[0m\u001b[0;34m.\u001b[0m\u001b[0mformat\u001b[0m\u001b[0;34m(\u001b[0m\u001b[0mhistory\u001b[0m\u001b[0;34m.\u001b[0m\u001b[0mhistory\u001b[0m\u001b[0;34m[\u001b[0m\u001b[0;34m'loss'\u001b[0m\u001b[0;34m]\u001b[0m\u001b[0;34m[\u001b[0m\u001b[0;34m-\u001b[0m\u001b[0;36m1\u001b[0m\u001b[0;34m]\u001b[0m\u001b[0;34m)\u001b[0m\u001b[0;34m)\u001b[0m\u001b[0;34m\u001b[0m\u001b[0;34m\u001b[0m\u001b[0m\n",
            "\u001b[0;31mNameError\u001b[0m: name 'history' is not defined"
          ]
        }
      ]
    },
    {
      "cell_type": "markdown",
      "metadata": {
        "id": "xvbGvEc1OpRp"
      },
      "source": [
        "### Model Performance Visualizations "
      ]
    },
    {
      "cell_type": "code",
      "metadata": {
        "colab": {
          "base_uri": "https://localhost:8080/",
          "height": 353
        },
        "id": "AANvAc0JgS05",
        "outputId": "84a83b3e-33a4-4511-f2f2-d863edab67ff"
      },
      "source": [
        "fig, ax = plt.subplots(1, 2, figsize=(15, 5))\n",
        "\n",
        "ax[0].set_title('Training Loss')\n",
        "ax[0].plot(history.history['loss'])\n",
        "\n",
        "ax[1].set_title('Validation Loss')\n",
        "ax[1].plot(history.history['val_loss'])"
      ],
      "execution_count": 23,
      "outputs": [
        {
          "output_type": "execute_result",
          "data": {
            "text/plain": [
              "[<matplotlib.lines.Line2D at 0x7f7b5b5901d0>]"
            ]
          },
          "metadata": {
            "tags": []
          },
          "execution_count": 23
        },
        {
          "output_type": "display_data",
          "data": {
            "image/png": "[encoded data removed]",
            "text/plain": [
              "<Figure size 1080x360 with 2 Axes>"
            ]
          },
          "metadata": {
            "tags": [],
            "needs_background": "light"
          }
        }
      ]
    },
    {
      "cell_type": "code",
      "metadata": {
        "colab": {
          "base_uri": "https://localhost:8080/",
          "height": 680
        },
        "id": "BG7OlAL1gcmj",
        "outputId": "6584873b-03d1-4e5c-e325-4f54ddc7e55d"
      },
      "source": [
        "fig, ax = plt.subplots(3, 2, figsize=(15, 10))\n",
        "\n",
        "fig.suptitle('Start Token')\n",
        "\n",
        "ax[0,0].set_title('Training Accuracy')\n",
        "ax[0,0].plot(history.history['start_token_out_categorical_accuracy'])\n",
        "\n",
        "ax[0,1].set_title('Validation Accuracy')\n",
        "ax[0,1].plot(history.history['val_start_token_out_categorical_accuracy'])\n",
        "\n",
        "ax[1,0].set_title('Training Recall')\n",
        "ax[1,0].plot(history.history['start_token_out_recall'])\n",
        "\n",
        "ax[1,1].set_title('Validation Recall')\n",
        "ax[1,1].plot(history.history['val_start_token_out_recall'])\n",
        "\n",
        "ax[2,0].set_title('Training Precision')\n",
        "ax[2,0].plot(history.history['start_token_out_precision'])\n",
        "\n",
        "ax[2,1].set_title('Validation Precision')\n",
        "ax[2,1].plot(history.history['val_start_token_out_precision'])\n",
        "plt.show()"
      ],
      "execution_count": 24,
      "outputs": [
        {
          "output_type": "execute_result",
          "data": {
            "text/plain": [
              "[<matplotlib.lines.Line2D at 0x7f7b5af455d0>]"
            ]
          },
          "metadata": {
            "tags": []
          },
          "execution_count": 24
        },
        {
          "output_type": "display_data",
          "data": {
            "image/png": "[encoded data removed]",
            "text/plain": [
              "<Figure size 1080x720 with 6 Axes>"
            ]
          },
          "metadata": {
            "tags": [],
            "needs_background": "light"
          }
        }
      ]
    },
    {
      "cell_type": "code",
      "metadata": {
        "colab": {
          "base_uri": "https://localhost:8080/",
          "height": 680
        },
        "id": "VdR_LkcZiV-w",
        "outputId": "9b78ce17-d882-4496-f179-ba17cef3d2f5"
      },
      "source": [
        "fig, ax = plt.subplots(3, 2, figsize=(15, 10))\n",
        "\n",
        "fig.suptitle('End Token')\n",
        "\n",
        "ax[0,0].set_title('Training Accuracy')\n",
        "ax[0,0].plot(history.history['end_token_out_categorical_accuracy'])\n",
        "\n",
        "ax[0,1].set_title('Validation Accuracy')\n",
        "ax[0,1].plot(history.history['val_end_token_out_categorical_accuracy'])\n",
        "\n",
        "ax[1,0].set_title('Training Recall')\n",
        "ax[1,0].plot(history.history['end_token_out_recall_1'])\n",
        "\n",
        "ax[1,1].set_title('Validation Recall')\n",
        "ax[1,1].plot(history.history['val_end_token_out_recall_1'])\n",
        "\n",
        "ax[2,0].set_title('Training Precision')\n",
        "ax[2,0].plot(history.history['end_token_out_precision_1'])\n",
        "\n",
        "ax[2,1].set_title('Validation Precision')\n",
        "ax[2,1].plot(history.history['val_end_token_out_precision_1'])\n",
        "plt.show()"
      ],
      "execution_count": 25,
      "outputs": [
        {
          "output_type": "execute_result",
          "data": {
            "text/plain": [
              "[<matplotlib.lines.Line2D at 0x7f7b5ac50ed0>]"
            ]
          },
          "metadata": {
            "tags": []
          },
          "execution_count": 25
        },
        {
          "output_type": "display_data",
          "data": {
            "image/png": "[encoded data removed]",
            "text/plain": [
              "<Figure size 1080x720 with 6 Axes>"
            ]
          },
          "metadata": {
            "tags": [],
            "needs_background": "light"
          }
        }
      ]
    },
    {
      "cell_type": "code",
      "metadata": {
        "colab": {
          "base_uri": "https://localhost:8080/",
          "height": 299
        },
        "id": "sFwGGQI6iZrk",
        "outputId": "bdd552bd-b507-4cfa-ae94-4e24f9789f09"
      },
      "source": [
        "accuracy = history.history['start_token_out_categorical_accuracy'][-1]\n",
        "recall = history.history['start_token_out_recall'][-1]\n",
        "precision = history.history['start_token_out_precision'][-1]\n",
        "\n",
        "\n",
        "print('Training')\n",
        "print('Start token accuracy: {0}'.format(accuracy))\n",
        "print('Start token recall: {0}'.format(recall))\n",
        "print('Start token precision: {0}'.format(precision))\n",
        "print('Start token F1 score: {0:.4f}'.format(\n",
        "    2 * (precision * recall) / (precision + recall)\n",
        "))\n",
        "\n",
        "accuracy = history.history['end_token_out_categorical_accuracy'][-1]\n",
        "recall = history.history['end_token_out_recall_1'][-1]\n",
        "precision = history.history['end_token_out_precision_1'][-1]\n",
        "\n",
        "print('End token accuracy: {0}'.format(accuracy))\n",
        "print('End token recall: {0}'.format(recall))\n",
        "print('End token precision: {0}'.format(precision))\n",
        "print('End token F1 score: {0:.4f}'.format(\n",
        "    2 * (precision * recall) / (precision + recall)\n",
        "))"
      ],
      "execution_count": 26,
      "outputs": [
        {
          "output_type": "stream",
          "text": [
            "Training\n",
            "Start token accuracy: 0.04533333331346512\n",
            "Start token recall: 0.0\n",
            "Start token precision: 0.0\n"
          ],
          "name": "stdout"
        },
        {
          "output_type": "error",
          "ename": "ZeroDivisionError",
          "evalue": "ignored",
          "traceback": [
            "\u001b[0;31m---------------------------------------------------------------------------\u001b[0m",
            "\u001b[0;31mZeroDivisionError\u001b[0m                         Traceback (most recent call last)",
            "\u001b[0;32m<ipython-input-26-c153b82f84f2>\u001b[0m in \u001b[0;36m<module>\u001b[0;34m()\u001b[0m\n\u001b[1;32m      9\u001b[0m \u001b[0mprint\u001b[0m\u001b[0;34m(\u001b[0m\u001b[0;34m'Start token precision: {0}'\u001b[0m\u001b[0;34m.\u001b[0m\u001b[0mformat\u001b[0m\u001b[0;34m(\u001b[0m\u001b[0mprecision\u001b[0m\u001b[0;34m)\u001b[0m\u001b[0;34m)\u001b[0m\u001b[0;34m\u001b[0m\u001b[0;34m\u001b[0m\u001b[0m\n\u001b[1;32m     10\u001b[0m print('Start token F1 score: {0:.4f}'.format(\n\u001b[0;32m---> 11\u001b[0;31m     \u001b[0;36m2\u001b[0m \u001b[0;34m*\u001b[0m \u001b[0;34m(\u001b[0m\u001b[0mprecision\u001b[0m \u001b[0;34m*\u001b[0m \u001b[0mrecall\u001b[0m\u001b[0;34m)\u001b[0m \u001b[0;34m/\u001b[0m \u001b[0;34m(\u001b[0m\u001b[0mprecision\u001b[0m \u001b[0;34m+\u001b[0m \u001b[0mrecall\u001b[0m\u001b[0;34m)\u001b[0m\u001b[0;34m\u001b[0m\u001b[0;34m\u001b[0m\u001b[0m\n\u001b[0m\u001b[1;32m     12\u001b[0m ))\n\u001b[1;32m     13\u001b[0m \u001b[0;34m\u001b[0m\u001b[0m\n",
            "\u001b[0;31mZeroDivisionError\u001b[0m: float division by zero"
          ]
        }
      ]
    },
    {
      "cell_type": "code",
      "metadata": {
        "colab": {
          "base_uri": "https://localhost:8080/",
          "height": 299
        },
        "id": "eiEQyAIkiq5r",
        "outputId": "19f9a3b4-5fd6-43c3-aca9-75ef2bec7296"
      },
      "source": [
        "accuracy = history.history['val_start_token_out_categorical_accuracy'][-1]\n",
        "recall = history.history['val_start_token_out_recall'][-1]\n",
        "precision = history.history['val_start_token_out_precision'][-1]\n",
        "\n",
        "\n",
        "print('Validation')\n",
        "print('Start token accuracy: {0}'.format(accuracy))\n",
        "print('Start token recall: {0}'.format(recall))\n",
        "print('Start token precision: {0}'.format(precision))\n",
        "print('Start token F1 score: {0:.4f}'.format(\n",
        "    2 * (precision * recall) / (precision + recall)\n",
        "))\n",
        "\n",
        "accuracy = history.history['val_end_token_out_categorical_accuracy'][-1]\n",
        "recall = history.history['val_end_token_out_recall_1'][-1]\n",
        "precision = history.history['val_end_token_out_precision_1'][-1]\n",
        "\n",
        "print('End token accuracy: {0}'.format(accuracy))\n",
        "print('End token recall: {0}'.format(recall))\n",
        "print('End token precision: {0}'.format(precision))\n",
        "print('End token F1 score: {0:.4f}'.format(\n",
        "    2 * (precision * recall) / (precision + recall)\n",
        "))"
      ],
      "execution_count": 27,
      "outputs": [
        {
          "output_type": "stream",
          "text": [
            "Validation\n",
            "Start token accuracy: 0.03999999910593033\n",
            "Start token recall: 0.0\n",
            "Start token precision: 0.0\n"
          ],
          "name": "stdout"
        },
        {
          "output_type": "error",
          "ename": "ZeroDivisionError",
          "evalue": "ignored",
          "traceback": [
            "\u001b[0;31m---------------------------------------------------------------------------\u001b[0m",
            "\u001b[0;31mZeroDivisionError\u001b[0m                         Traceback (most recent call last)",
            "\u001b[0;32m<ipython-input-27-e72ab57d8e16>\u001b[0m in \u001b[0;36m<module>\u001b[0;34m()\u001b[0m\n\u001b[1;32m      9\u001b[0m \u001b[0mprint\u001b[0m\u001b[0;34m(\u001b[0m\u001b[0;34m'Start token precision: {0}'\u001b[0m\u001b[0;34m.\u001b[0m\u001b[0mformat\u001b[0m\u001b[0;34m(\u001b[0m\u001b[0mprecision\u001b[0m\u001b[0;34m)\u001b[0m\u001b[0;34m)\u001b[0m\u001b[0;34m\u001b[0m\u001b[0;34m\u001b[0m\u001b[0m\n\u001b[1;32m     10\u001b[0m print('Start token F1 score: {0:.4f}'.format(\n\u001b[0;32m---> 11\u001b[0;31m     \u001b[0;36m2\u001b[0m \u001b[0;34m*\u001b[0m \u001b[0;34m(\u001b[0m\u001b[0mprecision\u001b[0m \u001b[0;34m*\u001b[0m \u001b[0mrecall\u001b[0m\u001b[0;34m)\u001b[0m \u001b[0;34m/\u001b[0m \u001b[0;34m(\u001b[0m\u001b[0mprecision\u001b[0m \u001b[0;34m+\u001b[0m \u001b[0mrecall\u001b[0m\u001b[0;34m)\u001b[0m\u001b[0;34m\u001b[0m\u001b[0;34m\u001b[0m\u001b[0m\n\u001b[0m\u001b[1;32m     12\u001b[0m ))\n\u001b[1;32m     13\u001b[0m \u001b[0;34m\u001b[0m\u001b[0m\n",
            "\u001b[0;31mZeroDivisionError\u001b[0m: float division by zero"
          ]
        }
      ]
    },
    {
      "cell_type": "markdown",
      "metadata": {
        "id": "YEbUxJ7gOxEn"
      },
      "source": [
        "#### Making Predictions to see how the model is performing"
      ]
    },
    {
      "cell_type": "code",
      "metadata": {
        "id": "Lr2lahXSi8xV"
      },
      "source": [
        "def test_answer(question, context):\n",
        "    sentences = [context, question]\n",
        "    \n",
        "    sentences = encode(sentences, tokenizer)\n",
        "    \n",
        "    predictions = model.predict(\n",
        "        [np.expand_dims(sentences[0], axis=0), np.expand_dims(sentences[1], axis=0)]\n",
        "    )\n",
        "    \n",
        "    predictions = np.array(predictions)\n",
        "    \n",
        "    pred_start = np.argmax(predictions[0,0])\n",
        "    pred_end = np.argmax(predictions[1,0])\n",
        "    pred_string = ' '.join(context.split(' ')[pred_start:pred_end])\n",
        "\n",
        "    return pred_start, pred_end, pred_string"
      ],
      "execution_count": 33,
      "outputs": []
    },
    {
      "cell_type": "code",
      "metadata": {
        "id": "coiWS245jzSL"
      },
      "source": [
        "context = train_data.context[0]\n",
        "question = train_data.questions[0]"
      ],
      "execution_count": 34,
      "outputs": []
    },
    {
      "cell_type": "code",
      "metadata": {
        "colab": {
          "base_uri": "https://localhost:8080/"
        },
        "id": "f4opmjpMjeWG",
        "outputId": "fc3cce1e-869c-4eca-e952-9a1ae23e6829"
      },
      "source": [
        "start, end, answer = test_answer(question, context)\n",
        "\n",
        "print('Start token: ' + str(start))\n",
        "print('End token: ' + str(end))\n",
        "print('Answer: ' + answer)"
      ],
      "execution_count": 35,
      "outputs": [
        {
          "output_type": "stream",
          "text": [
            "Start token: 46\n",
            "End token: 26\n",
            "Answer: \n"
          ],
          "name": "stdout"
        }
      ]
    },
    {
      "cell_type": "markdown",
      "metadata": {
        "id": "3PeGplvMPEwj"
      },
      "source": [
        "## Conclusion "
      ]
    },
    {
      "cell_type": "markdown",
      "metadata": {
        "id": "qeHKQ0pNlMK7"
      },
      "source": [
        "- It took us a lot of time trying to figure out how to tuckle the problem statement. Although, the beginning of the task was somewhat cumbersome we consulted some online resources like [kaggle](https://www.kaggle.com/), [hugging face](https://huggingface.co/), [tensorflow hub](http://tfhub.dev/) and many others to show us the way. \n",
        "- Although, BERT has proven to work well with the question answering tasks, due to the knowledge we seek to get from the project we conformed to going through the many mini steps, even from preprocessing of a json complex dataset into a more simpler one to feed into a neural network after several cleaning preprocesses. BERT, we considered to fall into the \"Black Box\" tasks and not much knowledge is retrieved as you learn through."
      ]
    },
    {
      "cell_type": "code",
      "metadata": {
        "id": "-QCdanEXSIgp"
      },
      "source": [
        ""
      ],
      "execution_count": null,
      "outputs": []
    }
  ]
}